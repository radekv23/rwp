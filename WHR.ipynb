{
 "cells": [
  {
   "cell_type": "markdown",
   "metadata": {},
   "source": [
    "![GMIT](img/gmitlogo.png)\n",
    "\n",
    "# Real-world phenomenon project for Programming for Data Analysis at GMIT.\n",
    "by G00352936\n",
    "\n",
    "### Problem statement\n",
    "\n",
    ">For this project you must create a data set by simulating a real-world phenomenon of\n",
    "your choosing. You may pick any phenomenon you wish – you might pick one that is\n",
    "of interest to you in your personal or professional life. Then, rather than collect data\n",
    "related to the phenomenon, you should model and synthesise such data using Python.\n",
    "We suggest you use the numpy.random package for this purpose.\n",
    "\n",
    ">Specifically, in this project you should:\n",
    ">- Choose a real-world phenomenon that can be measured and for which you could\n",
    "collect at least one-hundred data points across at least four different variables.\n",
    ">- Investigate the types of variables involved, their likely distributions, and their\n",
    "relationships with each other.\n",
    ">- Synthesise/simulate a data set as closely matching their properties as possible.\n",
    ">- Detail your research and implement the simulation in a Jupyter notebook – the\n",
    "data set itself can simply be displayed in an output cell within the notebook.\n",
    "\n",
    ">Note that this project is about simulation – you must synthesise a data set. Some\n",
    "students may already have some real-world data sets in their own files. It is okay to\n",
    "base your synthesised data set on these should you wish (please reference it if you do),\n",
    "but the main task in this project is to create a synthesised data set.\n"
   ]
  },
  {
   "cell_type": "markdown",
   "metadata": {},
   "source": [
    "![WHR](img/logo.jpg)\n",
    "\n",
    "## World Happiness Report\n",
    "\n",
    "\n",
    "The World Happiness Report is an annual publication of the United Nations Sustainable Development Solutions Network. It contains articles, and rankings of national happiness based on respondent ratings of their own lives, which the report also correlates with various life factors. As of March 2020, Finland was ranked the happiest country in the world three times in a row.\n",
    "\n",
    "Data is collected from people in over 150 countries. Each variable measured reveals a populated-weighted average score on a scale running from 0 to 10 that is tracked over time and compared against other countries. These variables currently include: real GDP per capita, social support, healthy life expectancy, freedom to make life choices, generosity, and perceptions of corruption. Each country is also compared against a hypothetical nation called Dystopia. Dystopia represents the lowest national averages for each key variable and is, along with residual error, used as a regression benchmark.\n"
   ]
  },
  {
   "cell_type": "markdown",
   "metadata": {},
   "source": [
    "**What Is Happiness?**\n",
    "\n",
    "Happiness is a state, not a trait; in other words, it isn’t a long-lasting, permanent feature or personality trait, but a more fleeting, changeable state.\n",
    "\n",
    "Happiness is equated with feeling pleasure or contentment, meaning that happiness is not to be confused with joy, ecstasy, bliss, or other more intense feelings.\n",
    "\n",
    "Happiness can be either feeling or showing, meaning that happiness is not necessarily an internal or external experience, but can be both.\n",
    "\n",
    "**Can happiness be measured?**\n",
    "\n",
    "Having the measure of subjective wellbeing makes a scientific explanation of happiness possible… by asking questions such as:\n",
    "\n",
    "- Are you happy?\n",
    "\n",
    "- How would you rate your happiness on a scale of 1 – 10\n",
    "\n",
    "\n",
    "The Experience Sampling Method (ESM) has been valuable in the assessment of subjective well-being. It has been a positive development in the science of happiness.\n",
    "\n",
    "ESM provides an overall indication of well-being over time, based on the total balance of measurement of positive and negative affect at different times (Norrish & Vella-Brodrick, 2008).\n",
    "\n",
    "Researchers have developed several well-validated scales for measuring happiness, supporting its’ validity as a scientific construct."
   ]
  },
  {
   "cell_type": "markdown",
   "metadata": {},
   "source": [
    "## Real World Data:\n"
   ]
  },
  {
   "cell_type": "code",
   "execution_count": 1,
   "metadata": {},
   "outputs": [],
   "source": [
    "# import python packages\n",
    "import numpy as np\n",
    "import pandas as pd\n",
    "from numpy import random\n",
    "import matplotlib.pyplot as plt\n",
    "import seaborn as sns\n"
   ]
  },
  {
   "cell_type": "markdown",
   "metadata": {},
   "source": [
    "**World Happiness Report 2020**"
   ]
  },
  {
   "cell_type": "code",
   "execution_count": 2,
   "metadata": {},
   "outputs": [
    {
     "data": {
      "text/html": [
       "<div>\n",
       "<style scoped>\n",
       "    .dataframe tbody tr th:only-of-type {\n",
       "        vertical-align: middle;\n",
       "    }\n",
       "\n",
       "    .dataframe tbody tr th {\n",
       "        vertical-align: top;\n",
       "    }\n",
       "\n",
       "    .dataframe thead th {\n",
       "        text-align: right;\n",
       "    }\n",
       "</style>\n",
       "<table border=\"1\" class=\"dataframe\">\n",
       "  <thead>\n",
       "    <tr style=\"text-align: right;\">\n",
       "      <th></th>\n",
       "      <th>Country name</th>\n",
       "      <th>Regional indicator</th>\n",
       "      <th>Ladder score</th>\n",
       "      <th>Standard error of ladder score</th>\n",
       "      <th>upperwhisker</th>\n",
       "      <th>lowerwhisker</th>\n",
       "      <th>Logged GDP per capita</th>\n",
       "      <th>Social support</th>\n",
       "      <th>Healthy life expectancy</th>\n",
       "      <th>Freedom to make life choices</th>\n",
       "      <th>Generosity</th>\n",
       "      <th>Perceptions of corruption</th>\n",
       "      <th>Ladder score in Dystopia</th>\n",
       "      <th>Explained by: Log GDP per capita</th>\n",
       "      <th>Explained by: Social support</th>\n",
       "      <th>Explained by: Healthy life expectancy</th>\n",
       "      <th>Explained by: Freedom to make life choices</th>\n",
       "      <th>Explained by: Generosity</th>\n",
       "      <th>Explained by: Perceptions of corruption</th>\n",
       "      <th>Dystopia + residual</th>\n",
       "    </tr>\n",
       "  </thead>\n",
       "  <tbody>\n",
       "    <tr>\n",
       "      <th>0</th>\n",
       "      <td>Finland</td>\n",
       "      <td>Western Europe</td>\n",
       "      <td>7.8087</td>\n",
       "      <td>0.031156</td>\n",
       "      <td>7.869766</td>\n",
       "      <td>7.747634</td>\n",
       "      <td>10.639267</td>\n",
       "      <td>0.954330</td>\n",
       "      <td>71.900825</td>\n",
       "      <td>0.949172</td>\n",
       "      <td>-0.059482</td>\n",
       "      <td>0.195445</td>\n",
       "      <td>1.972317</td>\n",
       "      <td>1.285190</td>\n",
       "      <td>1.499526</td>\n",
       "      <td>0.961271</td>\n",
       "      <td>0.662317</td>\n",
       "      <td>0.159670</td>\n",
       "      <td>0.477857</td>\n",
       "      <td>2.762835</td>\n",
       "    </tr>\n",
       "    <tr>\n",
       "      <th>1</th>\n",
       "      <td>Denmark</td>\n",
       "      <td>Western Europe</td>\n",
       "      <td>7.6456</td>\n",
       "      <td>0.033492</td>\n",
       "      <td>7.711245</td>\n",
       "      <td>7.579955</td>\n",
       "      <td>10.774001</td>\n",
       "      <td>0.955991</td>\n",
       "      <td>72.402504</td>\n",
       "      <td>0.951444</td>\n",
       "      <td>0.066202</td>\n",
       "      <td>0.168489</td>\n",
       "      <td>1.972317</td>\n",
       "      <td>1.326949</td>\n",
       "      <td>1.503449</td>\n",
       "      <td>0.979333</td>\n",
       "      <td>0.665040</td>\n",
       "      <td>0.242793</td>\n",
       "      <td>0.495260</td>\n",
       "      <td>2.432741</td>\n",
       "    </tr>\n",
       "    <tr>\n",
       "      <th>2</th>\n",
       "      <td>Switzerland</td>\n",
       "      <td>Western Europe</td>\n",
       "      <td>7.5599</td>\n",
       "      <td>0.035014</td>\n",
       "      <td>7.628528</td>\n",
       "      <td>7.491272</td>\n",
       "      <td>10.979933</td>\n",
       "      <td>0.942847</td>\n",
       "      <td>74.102448</td>\n",
       "      <td>0.921337</td>\n",
       "      <td>0.105911</td>\n",
       "      <td>0.303728</td>\n",
       "      <td>1.972317</td>\n",
       "      <td>1.390774</td>\n",
       "      <td>1.472403</td>\n",
       "      <td>1.040533</td>\n",
       "      <td>0.628954</td>\n",
       "      <td>0.269056</td>\n",
       "      <td>0.407946</td>\n",
       "      <td>2.350267</td>\n",
       "    </tr>\n",
       "    <tr>\n",
       "      <th>3</th>\n",
       "      <td>Iceland</td>\n",
       "      <td>Western Europe</td>\n",
       "      <td>7.5045</td>\n",
       "      <td>0.059616</td>\n",
       "      <td>7.621347</td>\n",
       "      <td>7.387653</td>\n",
       "      <td>10.772559</td>\n",
       "      <td>0.974670</td>\n",
       "      <td>73.000000</td>\n",
       "      <td>0.948892</td>\n",
       "      <td>0.246944</td>\n",
       "      <td>0.711710</td>\n",
       "      <td>1.972317</td>\n",
       "      <td>1.326502</td>\n",
       "      <td>1.547567</td>\n",
       "      <td>1.000843</td>\n",
       "      <td>0.661981</td>\n",
       "      <td>0.362330</td>\n",
       "      <td>0.144541</td>\n",
       "      <td>2.460688</td>\n",
       "    </tr>\n",
       "    <tr>\n",
       "      <th>4</th>\n",
       "      <td>Norway</td>\n",
       "      <td>Western Europe</td>\n",
       "      <td>7.4880</td>\n",
       "      <td>0.034837</td>\n",
       "      <td>7.556281</td>\n",
       "      <td>7.419719</td>\n",
       "      <td>11.087804</td>\n",
       "      <td>0.952487</td>\n",
       "      <td>73.200783</td>\n",
       "      <td>0.955750</td>\n",
       "      <td>0.134533</td>\n",
       "      <td>0.263218</td>\n",
       "      <td>1.972317</td>\n",
       "      <td>1.424207</td>\n",
       "      <td>1.495173</td>\n",
       "      <td>1.008072</td>\n",
       "      <td>0.670201</td>\n",
       "      <td>0.287985</td>\n",
       "      <td>0.434101</td>\n",
       "      <td>2.168266</td>\n",
       "    </tr>\n",
       "    <tr>\n",
       "      <th>...</th>\n",
       "      <td>...</td>\n",
       "      <td>...</td>\n",
       "      <td>...</td>\n",
       "      <td>...</td>\n",
       "      <td>...</td>\n",
       "      <td>...</td>\n",
       "      <td>...</td>\n",
       "      <td>...</td>\n",
       "      <td>...</td>\n",
       "      <td>...</td>\n",
       "      <td>...</td>\n",
       "      <td>...</td>\n",
       "      <td>...</td>\n",
       "      <td>...</td>\n",
       "      <td>...</td>\n",
       "      <td>...</td>\n",
       "      <td>...</td>\n",
       "      <td>...</td>\n",
       "      <td>...</td>\n",
       "      <td>...</td>\n",
       "    </tr>\n",
       "    <tr>\n",
       "      <th>148</th>\n",
       "      <td>Central African Republic</td>\n",
       "      <td>Sub-Saharan Africa</td>\n",
       "      <td>3.4759</td>\n",
       "      <td>0.115183</td>\n",
       "      <td>3.701658</td>\n",
       "      <td>3.250141</td>\n",
       "      <td>6.625160</td>\n",
       "      <td>0.319460</td>\n",
       "      <td>45.200001</td>\n",
       "      <td>0.640881</td>\n",
       "      <td>0.082410</td>\n",
       "      <td>0.891807</td>\n",
       "      <td>1.972317</td>\n",
       "      <td>0.041072</td>\n",
       "      <td>0.000000</td>\n",
       "      <td>0.000000</td>\n",
       "      <td>0.292814</td>\n",
       "      <td>0.253513</td>\n",
       "      <td>0.028265</td>\n",
       "      <td>2.860198</td>\n",
       "    </tr>\n",
       "    <tr>\n",
       "      <th>149</th>\n",
       "      <td>Rwanda</td>\n",
       "      <td>Sub-Saharan Africa</td>\n",
       "      <td>3.3123</td>\n",
       "      <td>0.052425</td>\n",
       "      <td>3.415053</td>\n",
       "      <td>3.209547</td>\n",
       "      <td>7.600104</td>\n",
       "      <td>0.540835</td>\n",
       "      <td>61.098846</td>\n",
       "      <td>0.900589</td>\n",
       "      <td>0.055484</td>\n",
       "      <td>0.183541</td>\n",
       "      <td>1.972317</td>\n",
       "      <td>0.343243</td>\n",
       "      <td>0.522876</td>\n",
       "      <td>0.572383</td>\n",
       "      <td>0.604088</td>\n",
       "      <td>0.235705</td>\n",
       "      <td>0.485542</td>\n",
       "      <td>0.548445</td>\n",
       "    </tr>\n",
       "    <tr>\n",
       "      <th>150</th>\n",
       "      <td>Zimbabwe</td>\n",
       "      <td>Sub-Saharan Africa</td>\n",
       "      <td>3.2992</td>\n",
       "      <td>0.058674</td>\n",
       "      <td>3.414202</td>\n",
       "      <td>3.184198</td>\n",
       "      <td>7.865712</td>\n",
       "      <td>0.763093</td>\n",
       "      <td>55.617260</td>\n",
       "      <td>0.711458</td>\n",
       "      <td>-0.072064</td>\n",
       "      <td>0.810237</td>\n",
       "      <td>1.972317</td>\n",
       "      <td>0.425564</td>\n",
       "      <td>1.047835</td>\n",
       "      <td>0.375038</td>\n",
       "      <td>0.377405</td>\n",
       "      <td>0.151349</td>\n",
       "      <td>0.080929</td>\n",
       "      <td>0.841031</td>\n",
       "    </tr>\n",
       "    <tr>\n",
       "      <th>151</th>\n",
       "      <td>South Sudan</td>\n",
       "      <td>Sub-Saharan Africa</td>\n",
       "      <td>2.8166</td>\n",
       "      <td>0.107610</td>\n",
       "      <td>3.027516</td>\n",
       "      <td>2.605684</td>\n",
       "      <td>7.425360</td>\n",
       "      <td>0.553707</td>\n",
       "      <td>51.000000</td>\n",
       "      <td>0.451314</td>\n",
       "      <td>0.016519</td>\n",
       "      <td>0.763417</td>\n",
       "      <td>1.972317</td>\n",
       "      <td>0.289083</td>\n",
       "      <td>0.553279</td>\n",
       "      <td>0.208809</td>\n",
       "      <td>0.065609</td>\n",
       "      <td>0.209935</td>\n",
       "      <td>0.111157</td>\n",
       "      <td>1.378751</td>\n",
       "    </tr>\n",
       "    <tr>\n",
       "      <th>152</th>\n",
       "      <td>Afghanistan</td>\n",
       "      <td>South Asia</td>\n",
       "      <td>2.5669</td>\n",
       "      <td>0.031311</td>\n",
       "      <td>2.628270</td>\n",
       "      <td>2.505530</td>\n",
       "      <td>7.462861</td>\n",
       "      <td>0.470367</td>\n",
       "      <td>52.590000</td>\n",
       "      <td>0.396573</td>\n",
       "      <td>-0.096429</td>\n",
       "      <td>0.933687</td>\n",
       "      <td>1.972317</td>\n",
       "      <td>0.300706</td>\n",
       "      <td>0.356434</td>\n",
       "      <td>0.266052</td>\n",
       "      <td>0.000000</td>\n",
       "      <td>0.135235</td>\n",
       "      <td>0.001226</td>\n",
       "      <td>1.507236</td>\n",
       "    </tr>\n",
       "  </tbody>\n",
       "</table>\n",
       "<p>153 rows × 20 columns</p>\n",
       "</div>"
      ],
      "text/plain": [
       "                 Country name  Regional indicator  Ladder score  \\\n",
       "0                     Finland      Western Europe        7.8087   \n",
       "1                     Denmark      Western Europe        7.6456   \n",
       "2                 Switzerland      Western Europe        7.5599   \n",
       "3                     Iceland      Western Europe        7.5045   \n",
       "4                      Norway      Western Europe        7.4880   \n",
       "..                        ...                 ...           ...   \n",
       "148  Central African Republic  Sub-Saharan Africa        3.4759   \n",
       "149                    Rwanda  Sub-Saharan Africa        3.3123   \n",
       "150                  Zimbabwe  Sub-Saharan Africa        3.2992   \n",
       "151               South Sudan  Sub-Saharan Africa        2.8166   \n",
       "152               Afghanistan          South Asia        2.5669   \n",
       "\n",
       "     Standard error of ladder score  upperwhisker  lowerwhisker  \\\n",
       "0                          0.031156      7.869766      7.747634   \n",
       "1                          0.033492      7.711245      7.579955   \n",
       "2                          0.035014      7.628528      7.491272   \n",
       "3                          0.059616      7.621347      7.387653   \n",
       "4                          0.034837      7.556281      7.419719   \n",
       "..                              ...           ...           ...   \n",
       "148                        0.115183      3.701658      3.250141   \n",
       "149                        0.052425      3.415053      3.209547   \n",
       "150                        0.058674      3.414202      3.184198   \n",
       "151                        0.107610      3.027516      2.605684   \n",
       "152                        0.031311      2.628270      2.505530   \n",
       "\n",
       "     Logged GDP per capita  Social support  Healthy life expectancy  \\\n",
       "0                10.639267        0.954330                71.900825   \n",
       "1                10.774001        0.955991                72.402504   \n",
       "2                10.979933        0.942847                74.102448   \n",
       "3                10.772559        0.974670                73.000000   \n",
       "4                11.087804        0.952487                73.200783   \n",
       "..                     ...             ...                      ...   \n",
       "148               6.625160        0.319460                45.200001   \n",
       "149               7.600104        0.540835                61.098846   \n",
       "150               7.865712        0.763093                55.617260   \n",
       "151               7.425360        0.553707                51.000000   \n",
       "152               7.462861        0.470367                52.590000   \n",
       "\n",
       "     Freedom to make life choices  Generosity  Perceptions of corruption  \\\n",
       "0                        0.949172   -0.059482                   0.195445   \n",
       "1                        0.951444    0.066202                   0.168489   \n",
       "2                        0.921337    0.105911                   0.303728   \n",
       "3                        0.948892    0.246944                   0.711710   \n",
       "4                        0.955750    0.134533                   0.263218   \n",
       "..                            ...         ...                        ...   \n",
       "148                      0.640881    0.082410                   0.891807   \n",
       "149                      0.900589    0.055484                   0.183541   \n",
       "150                      0.711458   -0.072064                   0.810237   \n",
       "151                      0.451314    0.016519                   0.763417   \n",
       "152                      0.396573   -0.096429                   0.933687   \n",
       "\n",
       "     Ladder score in Dystopia  Explained by: Log GDP per capita  \\\n",
       "0                    1.972317                          1.285190   \n",
       "1                    1.972317                          1.326949   \n",
       "2                    1.972317                          1.390774   \n",
       "3                    1.972317                          1.326502   \n",
       "4                    1.972317                          1.424207   \n",
       "..                        ...                               ...   \n",
       "148                  1.972317                          0.041072   \n",
       "149                  1.972317                          0.343243   \n",
       "150                  1.972317                          0.425564   \n",
       "151                  1.972317                          0.289083   \n",
       "152                  1.972317                          0.300706   \n",
       "\n",
       "     Explained by: Social support  Explained by: Healthy life expectancy  \\\n",
       "0                        1.499526                               0.961271   \n",
       "1                        1.503449                               0.979333   \n",
       "2                        1.472403                               1.040533   \n",
       "3                        1.547567                               1.000843   \n",
       "4                        1.495173                               1.008072   \n",
       "..                            ...                                    ...   \n",
       "148                      0.000000                               0.000000   \n",
       "149                      0.522876                               0.572383   \n",
       "150                      1.047835                               0.375038   \n",
       "151                      0.553279                               0.208809   \n",
       "152                      0.356434                               0.266052   \n",
       "\n",
       "     Explained by: Freedom to make life choices  Explained by: Generosity  \\\n",
       "0                                      0.662317                  0.159670   \n",
       "1                                      0.665040                  0.242793   \n",
       "2                                      0.628954                  0.269056   \n",
       "3                                      0.661981                  0.362330   \n",
       "4                                      0.670201                  0.287985   \n",
       "..                                          ...                       ...   \n",
       "148                                    0.292814                  0.253513   \n",
       "149                                    0.604088                  0.235705   \n",
       "150                                    0.377405                  0.151349   \n",
       "151                                    0.065609                  0.209935   \n",
       "152                                    0.000000                  0.135235   \n",
       "\n",
       "     Explained by: Perceptions of corruption  Dystopia + residual  \n",
       "0                                   0.477857             2.762835  \n",
       "1                                   0.495260             2.432741  \n",
       "2                                   0.407946             2.350267  \n",
       "3                                   0.144541             2.460688  \n",
       "4                                   0.434101             2.168266  \n",
       "..                                       ...                  ...  \n",
       "148                                 0.028265             2.860198  \n",
       "149                                 0.485542             0.548445  \n",
       "150                                 0.080929             0.841031  \n",
       "151                                 0.111157             1.378751  \n",
       "152                                 0.001226             1.507236  \n",
       "\n",
       "[153 rows x 20 columns]"
      ]
     },
     "execution_count": 2,
     "metadata": {},
     "output_type": "execute_result"
    }
   ],
   "source": [
    "# creating dataframe whr20\n",
    "whr20 = pd.read_csv ('WHR20.csv')\n",
    "whr20"
   ]
  },
  {
   "cell_type": "markdown",
   "metadata": {},
   "source": [
    "Reducing amount of data."
   ]
  },
  {
   "cell_type": "code",
   "execution_count": 3,
   "metadata": {},
   "outputs": [],
   "source": [
    "# dropping columns to reduce amount of variables\n",
    "whr20 = whr20.drop([\"Regional indicator\",\n",
    "                    \"Standard error of ladder score\",\n",
    "                    \"upperwhisker\",\n",
    "                    \"lowerwhisker\",\n",
    "                    \"Ladder score in Dystopia\",\n",
    "                    \"Explained by: Log GDP per capita\",\n",
    "                    \"Explained by: Social support\",\n",
    "                    \"Explained by: Healthy life expectancy\",\n",
    "                    \"Explained by: Freedom to make life choices\",\n",
    "                    \"Explained by: Generosity\",\n",
    "                    \"Dystopia + residual\",\n",
    "                    \"Explained by: Perceptions of corruption\",\n",
    "                    ],axis=1)"
   ]
  },
  {
   "cell_type": "code",
   "execution_count": 4,
   "metadata": {},
   "outputs": [
    {
     "data": {
      "text/html": [
       "<div>\n",
       "<style scoped>\n",
       "    .dataframe tbody tr th:only-of-type {\n",
       "        vertical-align: middle;\n",
       "    }\n",
       "\n",
       "    .dataframe tbody tr th {\n",
       "        vertical-align: top;\n",
       "    }\n",
       "\n",
       "    .dataframe thead th {\n",
       "        text-align: right;\n",
       "    }\n",
       "</style>\n",
       "<table border=\"1\" class=\"dataframe\">\n",
       "  <thead>\n",
       "    <tr style=\"text-align: right;\">\n",
       "      <th></th>\n",
       "      <th>Country name</th>\n",
       "      <th>Ladder score</th>\n",
       "      <th>Logged GDP per capita</th>\n",
       "      <th>Social support</th>\n",
       "      <th>Healthy life expectancy</th>\n",
       "      <th>Freedom to make life choices</th>\n",
       "      <th>Generosity</th>\n",
       "      <th>Perceptions of corruption</th>\n",
       "    </tr>\n",
       "  </thead>\n",
       "  <tbody>\n",
       "    <tr>\n",
       "      <th>0</th>\n",
       "      <td>Finland</td>\n",
       "      <td>7.8087</td>\n",
       "      <td>10.639267</td>\n",
       "      <td>0.954330</td>\n",
       "      <td>71.900825</td>\n",
       "      <td>0.949172</td>\n",
       "      <td>-0.059482</td>\n",
       "      <td>0.195445</td>\n",
       "    </tr>\n",
       "    <tr>\n",
       "      <th>1</th>\n",
       "      <td>Denmark</td>\n",
       "      <td>7.6456</td>\n",
       "      <td>10.774001</td>\n",
       "      <td>0.955991</td>\n",
       "      <td>72.402504</td>\n",
       "      <td>0.951444</td>\n",
       "      <td>0.066202</td>\n",
       "      <td>0.168489</td>\n",
       "    </tr>\n",
       "    <tr>\n",
       "      <th>2</th>\n",
       "      <td>Switzerland</td>\n",
       "      <td>7.5599</td>\n",
       "      <td>10.979933</td>\n",
       "      <td>0.942847</td>\n",
       "      <td>74.102448</td>\n",
       "      <td>0.921337</td>\n",
       "      <td>0.105911</td>\n",
       "      <td>0.303728</td>\n",
       "    </tr>\n",
       "    <tr>\n",
       "      <th>3</th>\n",
       "      <td>Iceland</td>\n",
       "      <td>7.5045</td>\n",
       "      <td>10.772559</td>\n",
       "      <td>0.974670</td>\n",
       "      <td>73.000000</td>\n",
       "      <td>0.948892</td>\n",
       "      <td>0.246944</td>\n",
       "      <td>0.711710</td>\n",
       "    </tr>\n",
       "    <tr>\n",
       "      <th>4</th>\n",
       "      <td>Norway</td>\n",
       "      <td>7.4880</td>\n",
       "      <td>11.087804</td>\n",
       "      <td>0.952487</td>\n",
       "      <td>73.200783</td>\n",
       "      <td>0.955750</td>\n",
       "      <td>0.134533</td>\n",
       "      <td>0.263218</td>\n",
       "    </tr>\n",
       "    <tr>\n",
       "      <th>...</th>\n",
       "      <td>...</td>\n",
       "      <td>...</td>\n",
       "      <td>...</td>\n",
       "      <td>...</td>\n",
       "      <td>...</td>\n",
       "      <td>...</td>\n",
       "      <td>...</td>\n",
       "      <td>...</td>\n",
       "    </tr>\n",
       "    <tr>\n",
       "      <th>148</th>\n",
       "      <td>Central African Republic</td>\n",
       "      <td>3.4759</td>\n",
       "      <td>6.625160</td>\n",
       "      <td>0.319460</td>\n",
       "      <td>45.200001</td>\n",
       "      <td>0.640881</td>\n",
       "      <td>0.082410</td>\n",
       "      <td>0.891807</td>\n",
       "    </tr>\n",
       "    <tr>\n",
       "      <th>149</th>\n",
       "      <td>Rwanda</td>\n",
       "      <td>3.3123</td>\n",
       "      <td>7.600104</td>\n",
       "      <td>0.540835</td>\n",
       "      <td>61.098846</td>\n",
       "      <td>0.900589</td>\n",
       "      <td>0.055484</td>\n",
       "      <td>0.183541</td>\n",
       "    </tr>\n",
       "    <tr>\n",
       "      <th>150</th>\n",
       "      <td>Zimbabwe</td>\n",
       "      <td>3.2992</td>\n",
       "      <td>7.865712</td>\n",
       "      <td>0.763093</td>\n",
       "      <td>55.617260</td>\n",
       "      <td>0.711458</td>\n",
       "      <td>-0.072064</td>\n",
       "      <td>0.810237</td>\n",
       "    </tr>\n",
       "    <tr>\n",
       "      <th>151</th>\n",
       "      <td>South Sudan</td>\n",
       "      <td>2.8166</td>\n",
       "      <td>7.425360</td>\n",
       "      <td>0.553707</td>\n",
       "      <td>51.000000</td>\n",
       "      <td>0.451314</td>\n",
       "      <td>0.016519</td>\n",
       "      <td>0.763417</td>\n",
       "    </tr>\n",
       "    <tr>\n",
       "      <th>152</th>\n",
       "      <td>Afghanistan</td>\n",
       "      <td>2.5669</td>\n",
       "      <td>7.462861</td>\n",
       "      <td>0.470367</td>\n",
       "      <td>52.590000</td>\n",
       "      <td>0.396573</td>\n",
       "      <td>-0.096429</td>\n",
       "      <td>0.933687</td>\n",
       "    </tr>\n",
       "  </tbody>\n",
       "</table>\n",
       "<p>153 rows × 8 columns</p>\n",
       "</div>"
      ],
      "text/plain": [
       "                 Country name  Ladder score  Logged GDP per capita  \\\n",
       "0                     Finland        7.8087              10.639267   \n",
       "1                     Denmark        7.6456              10.774001   \n",
       "2                 Switzerland        7.5599              10.979933   \n",
       "3                     Iceland        7.5045              10.772559   \n",
       "4                      Norway        7.4880              11.087804   \n",
       "..                        ...           ...                    ...   \n",
       "148  Central African Republic        3.4759               6.625160   \n",
       "149                    Rwanda        3.3123               7.600104   \n",
       "150                  Zimbabwe        3.2992               7.865712   \n",
       "151               South Sudan        2.8166               7.425360   \n",
       "152               Afghanistan        2.5669               7.462861   \n",
       "\n",
       "     Social support  Healthy life expectancy  Freedom to make life choices  \\\n",
       "0          0.954330                71.900825                      0.949172   \n",
       "1          0.955991                72.402504                      0.951444   \n",
       "2          0.942847                74.102448                      0.921337   \n",
       "3          0.974670                73.000000                      0.948892   \n",
       "4          0.952487                73.200783                      0.955750   \n",
       "..              ...                      ...                           ...   \n",
       "148        0.319460                45.200001                      0.640881   \n",
       "149        0.540835                61.098846                      0.900589   \n",
       "150        0.763093                55.617260                      0.711458   \n",
       "151        0.553707                51.000000                      0.451314   \n",
       "152        0.470367                52.590000                      0.396573   \n",
       "\n",
       "     Generosity  Perceptions of corruption  \n",
       "0     -0.059482                   0.195445  \n",
       "1      0.066202                   0.168489  \n",
       "2      0.105911                   0.303728  \n",
       "3      0.246944                   0.711710  \n",
       "4      0.134533                   0.263218  \n",
       "..          ...                        ...  \n",
       "148    0.082410                   0.891807  \n",
       "149    0.055484                   0.183541  \n",
       "150   -0.072064                   0.810237  \n",
       "151    0.016519                   0.763417  \n",
       "152   -0.096429                   0.933687  \n",
       "\n",
       "[153 rows x 8 columns]"
      ]
     },
     "execution_count": 4,
     "metadata": {},
     "output_type": "execute_result"
    }
   ],
   "source": [
    "whr20"
   ]
  },
  {
   "cell_type": "markdown",
   "metadata": {},
   "source": [
    "Checking ranges of our columns, by looking at min and max."
   ]
  },
  {
   "cell_type": "code",
   "execution_count": 5,
   "metadata": {},
   "outputs": [
    {
     "data": {
      "text/html": [
       "<div>\n",
       "<style scoped>\n",
       "    .dataframe tbody tr th:only-of-type {\n",
       "        vertical-align: middle;\n",
       "    }\n",
       "\n",
       "    .dataframe tbody tr th {\n",
       "        vertical-align: top;\n",
       "    }\n",
       "\n",
       "    .dataframe thead th {\n",
       "        text-align: right;\n",
       "    }\n",
       "</style>\n",
       "<table border=\"1\" class=\"dataframe\">\n",
       "  <thead>\n",
       "    <tr style=\"text-align: right;\">\n",
       "      <th></th>\n",
       "      <th>Ladder score</th>\n",
       "      <th>Logged GDP per capita</th>\n",
       "      <th>Social support</th>\n",
       "      <th>Healthy life expectancy</th>\n",
       "      <th>Freedom to make life choices</th>\n",
       "      <th>Generosity</th>\n",
       "      <th>Perceptions of corruption</th>\n",
       "    </tr>\n",
       "  </thead>\n",
       "  <tbody>\n",
       "    <tr>\n",
       "      <th>count</th>\n",
       "      <td>153.00000</td>\n",
       "      <td>153.000000</td>\n",
       "      <td>153.000000</td>\n",
       "      <td>153.000000</td>\n",
       "      <td>153.000000</td>\n",
       "      <td>153.000000</td>\n",
       "      <td>153.000000</td>\n",
       "    </tr>\n",
       "    <tr>\n",
       "      <th>mean</th>\n",
       "      <td>5.47324</td>\n",
       "      <td>9.295706</td>\n",
       "      <td>0.808721</td>\n",
       "      <td>64.445529</td>\n",
       "      <td>0.783360</td>\n",
       "      <td>-0.014568</td>\n",
       "      <td>0.733120</td>\n",
       "    </tr>\n",
       "    <tr>\n",
       "      <th>std</th>\n",
       "      <td>1.11227</td>\n",
       "      <td>1.201588</td>\n",
       "      <td>0.121453</td>\n",
       "      <td>7.057848</td>\n",
       "      <td>0.117786</td>\n",
       "      <td>0.151809</td>\n",
       "      <td>0.175172</td>\n",
       "    </tr>\n",
       "    <tr>\n",
       "      <th>min</th>\n",
       "      <td>2.56690</td>\n",
       "      <td>6.492642</td>\n",
       "      <td>0.319460</td>\n",
       "      <td>45.200001</td>\n",
       "      <td>0.396573</td>\n",
       "      <td>-0.300907</td>\n",
       "      <td>0.109784</td>\n",
       "    </tr>\n",
       "    <tr>\n",
       "      <th>25%</th>\n",
       "      <td>4.72410</td>\n",
       "      <td>8.350645</td>\n",
       "      <td>0.737217</td>\n",
       "      <td>58.961712</td>\n",
       "      <td>0.714839</td>\n",
       "      <td>-0.127015</td>\n",
       "      <td>0.683019</td>\n",
       "    </tr>\n",
       "    <tr>\n",
       "      <th>50%</th>\n",
       "      <td>5.51500</td>\n",
       "      <td>9.456313</td>\n",
       "      <td>0.829204</td>\n",
       "      <td>66.305145</td>\n",
       "      <td>0.799805</td>\n",
       "      <td>-0.033665</td>\n",
       "      <td>0.783122</td>\n",
       "    </tr>\n",
       "    <tr>\n",
       "      <th>75%</th>\n",
       "      <td>6.22850</td>\n",
       "      <td>10.265124</td>\n",
       "      <td>0.906747</td>\n",
       "      <td>69.289192</td>\n",
       "      <td>0.877709</td>\n",
       "      <td>0.085429</td>\n",
       "      <td>0.849151</td>\n",
       "    </tr>\n",
       "    <tr>\n",
       "      <th>max</th>\n",
       "      <td>7.80870</td>\n",
       "      <td>11.450681</td>\n",
       "      <td>0.974670</td>\n",
       "      <td>76.804581</td>\n",
       "      <td>0.974998</td>\n",
       "      <td>0.560664</td>\n",
       "      <td>0.935585</td>\n",
       "    </tr>\n",
       "  </tbody>\n",
       "</table>\n",
       "</div>"
      ],
      "text/plain": [
       "       Ladder score  Logged GDP per capita  Social support  \\\n",
       "count     153.00000             153.000000      153.000000   \n",
       "mean        5.47324               9.295706        0.808721   \n",
       "std         1.11227               1.201588        0.121453   \n",
       "min         2.56690               6.492642        0.319460   \n",
       "25%         4.72410               8.350645        0.737217   \n",
       "50%         5.51500               9.456313        0.829204   \n",
       "75%         6.22850              10.265124        0.906747   \n",
       "max         7.80870              11.450681        0.974670   \n",
       "\n",
       "       Healthy life expectancy  Freedom to make life choices  Generosity  \\\n",
       "count               153.000000                    153.000000  153.000000   \n",
       "mean                 64.445529                      0.783360   -0.014568   \n",
       "std                   7.057848                      0.117786    0.151809   \n",
       "min                  45.200001                      0.396573   -0.300907   \n",
       "25%                  58.961712                      0.714839   -0.127015   \n",
       "50%                  66.305145                      0.799805   -0.033665   \n",
       "75%                  69.289192                      0.877709    0.085429   \n",
       "max                  76.804581                      0.974998    0.560664   \n",
       "\n",
       "       Perceptions of corruption  \n",
       "count                 153.000000  \n",
       "mean                    0.733120  \n",
       "std                     0.175172  \n",
       "min                     0.109784  \n",
       "25%                     0.683019  \n",
       "50%                     0.783122  \n",
       "75%                     0.849151  \n",
       "max                     0.935585  "
      ]
     },
     "execution_count": 5,
     "metadata": {},
     "output_type": "execute_result"
    }
   ],
   "source": [
    "whr20.describe()"
   ]
  },
  {
   "cell_type": "markdown",
   "metadata": {},
   "source": [
    "Checking ranges once more and looking at histogram of data to pick best distribution for simulation."
   ]
  },
  {
   "cell_type": "code",
   "execution_count": 6,
   "metadata": {},
   "outputs": [
    {
     "name": "stdout",
     "output_type": "stream",
     "text": [
      "7.808700085\n",
      "2.566900015\n"
     ]
    },
    {
     "data": {
      "image/png": "[encoded data removed]",
      "text/plain": [
       "<Figure size 432x288 with 1 Axes>"
      ]
     },
     "metadata": {
      "needs_background": "light"
     },
     "output_type": "display_data"
    }
   ],
   "source": [
    "print(whr20['Ladder score'].max())\n",
    "print(whr20['Ladder score'].min())\n",
    "whr20.hist(column='Ladder score') # normal right\n",
    "plt.show()"
   ]
  },
  {
   "cell_type": "code",
   "execution_count": 7,
   "metadata": {},
   "outputs": [
    {
     "name": "stdout",
     "output_type": "stream",
     "text": [
      "11.45068073\n",
      "6.492642403\n"
     ]
    },
    {
     "data": {
      "image/png": "[encoded data removed]",
      "text/plain": [
       "<Figure size 432x288 with 1 Axes>"
      ]
     },
     "metadata": {
      "needs_background": "light"
     },
     "output_type": "display_data"
    }
   ],
   "source": [
    "print(whr20['Logged GDP per capita'].max())\n",
    "print(whr20['Logged GDP per capita'].min())\n",
    "whr20.hist(column='Logged GDP per capita') # poisson invers\n",
    "plt.show()"
   ]
  },
  {
   "cell_type": "code",
   "execution_count": 8,
   "metadata": {},
   "outputs": [
    {
     "name": "stdout",
     "output_type": "stream",
     "text": [
      "0.9746695759999999\n",
      "0.31945985600000004\n"
     ]
    },
    {
     "data": {
      "image/png": "[encoded data removed]",
      "text/plain": [
       "<Figure size 432x288 with 1 Axes>"
      ]
     },
     "metadata": {
      "needs_background": "light"
     },
     "output_type": "display_data"
    }
   ],
   "source": [
    "print(whr20['Social support'].max())\n",
    "print(whr20['Social support'].min())\n",
    "whr20.hist(column='Social support') # lof normal invers\n",
    "plt.show()"
   ]
  },
  {
   "cell_type": "code",
   "execution_count": 9,
   "metadata": {},
   "outputs": [
    {
     "name": "stdout",
     "output_type": "stream",
     "text": [
      "76.80458069\n",
      "45.20000076\n"
     ]
    },
    {
     "data": {
      "image/png": "[encoded data removed]",
      "text/plain": [
       "<Figure size 432x288 with 1 Axes>"
      ]
     },
     "metadata": {
      "needs_background": "light"
     },
     "output_type": "display_data"
    }
   ],
   "source": [
    "print(whr20['Healthy life expectancy'].max())\n",
    "print(whr20['Healthy life expectancy'].min())\n",
    "whr20.hist(column='Healthy life expectancy') # beta\n",
    "plt.show()"
   ]
  },
  {
   "cell_type": "code",
   "execution_count": 10,
   "metadata": {},
   "outputs": [
    {
     "name": "stdout",
     "output_type": "stream",
     "text": [
      "0.974998116\n",
      "0.39657300700000003\n"
     ]
    },
    {
     "data": {
      "image/png": "[encoded data removed]",
      "text/plain": [
       "<Figure size 432x288 with 1 Axes>"
      ]
     },
     "metadata": {
      "needs_background": "light"
     },
     "output_type": "display_data"
    }
   ],
   "source": [
    "print(whr20['Freedom to make life choices'].max())\n",
    "print(whr20['Freedom to make life choices'].min())\n",
    "whr20.hist(column='Freedom to make life choices') #beta\n",
    "plt.show()"
   ]
  },
  {
   "cell_type": "code",
   "execution_count": 11,
   "metadata": {},
   "outputs": [
    {
     "name": "stdout",
     "output_type": "stream",
     "text": [
      "0.560663998\n",
      "-0.30090737300000003\n"
     ]
    },
    {
     "data": {
      "image/png": "[encoded data removed]",
      "text/plain": [
       "<Figure size 432x288 with 1 Axes>"
      ]
     },
     "metadata": {
      "needs_background": "light"
     },
     "output_type": "display_data"
    }
   ],
   "source": [
    "print(whr20['Generosity'].max())\n",
    "print(whr20['Generosity'].min())\n",
    "whr20.hist(column='Generosity') # gamma\n",
    "plt.show()"
   ]
  },
  {
   "cell_type": "code",
   "execution_count": 12,
   "metadata": {},
   "outputs": [
    {
     "name": "stdout",
     "output_type": "stream",
     "text": [
      "0.9355851409999999\n",
      "0.109784193\n"
     ]
    },
    {
     "data": {
      "image/png": "[encoded data removed]",
      "text/plain": [
       "<Figure size 432x288 with 1 Axes>"
      ]
     },
     "metadata": {
      "needs_background": "light"
     },
     "output_type": "display_data"
    }
   ],
   "source": [
    "print(whr20['Perceptions of corruption'].max())\n",
    "print(whr20['Perceptions of corruption'].min())\n",
    "whr20.hist(column='Perceptions of corruption') # invers Exponential or log normal invers\n",
    "plt.show()"
   ]
  },
  {
   "cell_type": "markdown",
   "metadata": {},
   "source": [
    "## Simulated  World Data:\n",
    "\n",
    "### Variables: "
   ]
  },
  {
   "cell_type": "code",
   "execution_count": 13,
   "metadata": {},
   "outputs": [
    {
     "data": {
      "text/html": [
       "<div>\n",
       "<style scoped>\n",
       "    .dataframe tbody tr th:only-of-type {\n",
       "        vertical-align: middle;\n",
       "    }\n",
       "\n",
       "    .dataframe tbody tr th {\n",
       "        vertical-align: top;\n",
       "    }\n",
       "\n",
       "    .dataframe thead th {\n",
       "        text-align: right;\n",
       "    }\n",
       "</style>\n",
       "<table border=\"1\" class=\"dataframe\">\n",
       "  <thead>\n",
       "    <tr style=\"text-align: right;\">\n",
       "      <th></th>\n",
       "      <th>Country name</th>\n",
       "      <th>Ladder score</th>\n",
       "      <th>Logged GDP per capita</th>\n",
       "      <th>Social support</th>\n",
       "      <th>Healthy life expectancy</th>\n",
       "      <th>Freedom to make life choices</th>\n",
       "      <th>Generosity</th>\n",
       "      <th>Perceptions of corruption</th>\n",
       "    </tr>\n",
       "  </thead>\n",
       "  <tbody>\n",
       "  </tbody>\n",
       "</table>\n",
       "</div>"
      ],
      "text/plain": [
       "Empty DataFrame\n",
       "Columns: [Country name, Ladder score, Logged GDP per capita, Social support, Healthy life expectancy, Freedom to make life choices, Generosity, Perceptions of corruption]\n",
       "Index: []"
      ]
     },
     "execution_count": 13,
     "metadata": {},
     "output_type": "execute_result"
    }
   ],
   "source": [
    "whr20.head(0)"
   ]
  },
  {
   "cell_type": "code",
   "execution_count": 14,
   "metadata": {},
   "outputs": [],
   "source": [
    "sim = pd.DataFrame()"
   ]
  },
  {
   "cell_type": "code",
   "execution_count": 15,
   "metadata": {},
   "outputs": [],
   "source": [
    "sim['Country name'] =  whr20['Country name']"
   ]
  },
  {
   "cell_type": "code",
   "execution_count": 16,
   "metadata": {},
   "outputs": [
    {
     "data": {
      "text/html": [
       "<div>\n",
       "<style scoped>\n",
       "    .dataframe tbody tr th:only-of-type {\n",
       "        vertical-align: middle;\n",
       "    }\n",
       "\n",
       "    .dataframe tbody tr th {\n",
       "        vertical-align: top;\n",
       "    }\n",
       "\n",
       "    .dataframe thead th {\n",
       "        text-align: right;\n",
       "    }\n",
       "</style>\n",
       "<table border=\"1\" class=\"dataframe\">\n",
       "  <thead>\n",
       "    <tr style=\"text-align: right;\">\n",
       "      <th></th>\n",
       "      <th>Country name</th>\n",
       "    </tr>\n",
       "  </thead>\n",
       "  <tbody>\n",
       "    <tr>\n",
       "      <th>0</th>\n",
       "      <td>Finland</td>\n",
       "    </tr>\n",
       "    <tr>\n",
       "      <th>1</th>\n",
       "      <td>Denmark</td>\n",
       "    </tr>\n",
       "    <tr>\n",
       "      <th>2</th>\n",
       "      <td>Switzerland</td>\n",
       "    </tr>\n",
       "    <tr>\n",
       "      <th>3</th>\n",
       "      <td>Iceland</td>\n",
       "    </tr>\n",
       "    <tr>\n",
       "      <th>4</th>\n",
       "      <td>Norway</td>\n",
       "    </tr>\n",
       "    <tr>\n",
       "      <th>...</th>\n",
       "      <td>...</td>\n",
       "    </tr>\n",
       "    <tr>\n",
       "      <th>148</th>\n",
       "      <td>Central African Republic</td>\n",
       "    </tr>\n",
       "    <tr>\n",
       "      <th>149</th>\n",
       "      <td>Rwanda</td>\n",
       "    </tr>\n",
       "    <tr>\n",
       "      <th>150</th>\n",
       "      <td>Zimbabwe</td>\n",
       "    </tr>\n",
       "    <tr>\n",
       "      <th>151</th>\n",
       "      <td>South Sudan</td>\n",
       "    </tr>\n",
       "    <tr>\n",
       "      <th>152</th>\n",
       "      <td>Afghanistan</td>\n",
       "    </tr>\n",
       "  </tbody>\n",
       "</table>\n",
       "<p>153 rows × 1 columns</p>\n",
       "</div>"
      ],
      "text/plain": [
       "                 Country name\n",
       "0                     Finland\n",
       "1                     Denmark\n",
       "2                 Switzerland\n",
       "3                     Iceland\n",
       "4                      Norway\n",
       "..                        ...\n",
       "148  Central African Republic\n",
       "149                    Rwanda\n",
       "150                  Zimbabwe\n",
       "151               South Sudan\n",
       "152               Afghanistan\n",
       "\n",
       "[153 rows x 1 columns]"
      ]
     },
     "execution_count": 16,
     "metadata": {},
     "output_type": "execute_result"
    }
   ],
   "source": [
    "sim"
   ]
  },
  {
   "cell_type": "markdown",
   "metadata": {},
   "source": [
    "**Simulating Logged GDP per capita:**"
   ]
  },
  {
   "cell_type": "code",
   "execution_count": 17,
   "metadata": {},
   "outputs": [],
   "source": [
    "gdp = np.random.choice(whr20['Logged GDP per capita'], size = 153)"
   ]
  },
  {
   "cell_type": "code",
   "execution_count": 18,
   "metadata": {},
   "outputs": [],
   "source": [
    "sim['Logged GDP per capita'] = gdp"
   ]
  },
  {
   "cell_type": "code",
   "execution_count": 19,
   "metadata": {},
   "outputs": [
    {
     "data": {
      "text/html": [
       "<div>\n",
       "<style scoped>\n",
       "    .dataframe tbody tr th:only-of-type {\n",
       "        vertical-align: middle;\n",
       "    }\n",
       "\n",
       "    .dataframe tbody tr th {\n",
       "        vertical-align: top;\n",
       "    }\n",
       "\n",
       "    .dataframe thead th {\n",
       "        text-align: right;\n",
       "    }\n",
       "</style>\n",
       "<table border=\"1\" class=\"dataframe\">\n",
       "  <thead>\n",
       "    <tr style=\"text-align: right;\">\n",
       "      <th></th>\n",
       "      <th>Country name</th>\n",
       "      <th>Logged GDP per capita</th>\n",
       "    </tr>\n",
       "  </thead>\n",
       "  <tbody>\n",
       "    <tr>\n",
       "      <th>0</th>\n",
       "      <td>Finland</td>\n",
       "      <td>10.265124</td>\n",
       "    </tr>\n",
       "    <tr>\n",
       "      <th>1</th>\n",
       "      <td>Denmark</td>\n",
       "      <td>8.576625</td>\n",
       "    </tr>\n",
       "    <tr>\n",
       "      <th>2</th>\n",
       "      <td>Switzerland</td>\n",
       "      <td>10.405703</td>\n",
       "    </tr>\n",
       "    <tr>\n",
       "      <th>3</th>\n",
       "      <td>Iceland</td>\n",
       "      <td>9.658156</td>\n",
       "    </tr>\n",
       "    <tr>\n",
       "      <th>4</th>\n",
       "      <td>Norway</td>\n",
       "      <td>9.956786</td>\n",
       "    </tr>\n",
       "    <tr>\n",
       "      <th>...</th>\n",
       "      <td>...</td>\n",
       "      <td>...</td>\n",
       "    </tr>\n",
       "    <tr>\n",
       "      <th>148</th>\n",
       "      <td>Central African Republic</td>\n",
       "      <td>9.226101</td>\n",
       "    </tr>\n",
       "    <tr>\n",
       "      <th>149</th>\n",
       "      <td>Rwanda</td>\n",
       "      <td>7.069346</td>\n",
       "    </tr>\n",
       "    <tr>\n",
       "      <th>150</th>\n",
       "      <td>Zimbabwe</td>\n",
       "      <td>10.510567</td>\n",
       "    </tr>\n",
       "    <tr>\n",
       "      <th>151</th>\n",
       "      <td>South Sudan</td>\n",
       "      <td>8.993546</td>\n",
       "    </tr>\n",
       "    <tr>\n",
       "      <th>152</th>\n",
       "      <td>Afghanistan</td>\n",
       "      <td>9.779945</td>\n",
       "    </tr>\n",
       "  </tbody>\n",
       "</table>\n",
       "<p>153 rows × 2 columns</p>\n",
       "</div>"
      ],
      "text/plain": [
       "                 Country name  Logged GDP per capita\n",
       "0                     Finland              10.265124\n",
       "1                     Denmark               8.576625\n",
       "2                 Switzerland              10.405703\n",
       "3                     Iceland               9.658156\n",
       "4                      Norway               9.956786\n",
       "..                        ...                    ...\n",
       "148  Central African Republic               9.226101\n",
       "149                    Rwanda               7.069346\n",
       "150                  Zimbabwe              10.510567\n",
       "151               South Sudan               8.993546\n",
       "152               Afghanistan               9.779945\n",
       "\n",
       "[153 rows x 2 columns]"
      ]
     },
     "execution_count": 19,
     "metadata": {},
     "output_type": "execute_result"
    }
   ],
   "source": [
    "sim"
   ]
  },
  {
   "cell_type": "code",
   "execution_count": 20,
   "metadata": {},
   "outputs": [
    {
     "data": {
      "text/plain": [
       "<function matplotlib.pyplot.show(*args, **kw)>"
      ]
     },
     "execution_count": 20,
     "metadata": {},
     "output_type": "execute_result"
    },
    {
     "data": {
      "image/png": "[encoded data removed]",
      "text/plain": [
       "<Figure size 432x288 with 1 Axes>"
      ]
     },
     "metadata": {
      "needs_background": "light"
     },
     "output_type": "display_data"
    }
   ],
   "source": [
    "sim.hist(column='Logged GDP per capita')\n",
    "plt.show"
   ]
  },
  {
   "cell_type": "markdown",
   "metadata": {},
   "source": [
    "**Simulating Social support:**"
   ]
  },
  {
   "cell_type": "code",
   "execution_count": 21,
   "metadata": {},
   "outputs": [],
   "source": [
    "social = np.random.triangular(0.319, 0.975, 0.975, 153)\n",
    "sim['Social support'] = social"
   ]
  },
  {
   "cell_type": "code",
   "execution_count": 22,
   "metadata": {},
   "outputs": [
    {
     "data": {
      "text/html": [
       "<div>\n",
       "<style scoped>\n",
       "    .dataframe tbody tr th:only-of-type {\n",
       "        vertical-align: middle;\n",
       "    }\n",
       "\n",
       "    .dataframe tbody tr th {\n",
       "        vertical-align: top;\n",
       "    }\n",
       "\n",
       "    .dataframe thead th {\n",
       "        text-align: right;\n",
       "    }\n",
       "</style>\n",
       "<table border=\"1\" class=\"dataframe\">\n",
       "  <thead>\n",
       "    <tr style=\"text-align: right;\">\n",
       "      <th></th>\n",
       "      <th>Country name</th>\n",
       "      <th>Logged GDP per capita</th>\n",
       "      <th>Social support</th>\n",
       "    </tr>\n",
       "  </thead>\n",
       "  <tbody>\n",
       "    <tr>\n",
       "      <th>0</th>\n",
       "      <td>Finland</td>\n",
       "      <td>10.265124</td>\n",
       "      <td>0.934458</td>\n",
       "    </tr>\n",
       "    <tr>\n",
       "      <th>1</th>\n",
       "      <td>Denmark</td>\n",
       "      <td>8.576625</td>\n",
       "      <td>0.469758</td>\n",
       "    </tr>\n",
       "    <tr>\n",
       "      <th>2</th>\n",
       "      <td>Switzerland</td>\n",
       "      <td>10.405703</td>\n",
       "      <td>0.901884</td>\n",
       "    </tr>\n",
       "    <tr>\n",
       "      <th>3</th>\n",
       "      <td>Iceland</td>\n",
       "      <td>9.658156</td>\n",
       "      <td>0.974232</td>\n",
       "    </tr>\n",
       "    <tr>\n",
       "      <th>4</th>\n",
       "      <td>Norway</td>\n",
       "      <td>9.956786</td>\n",
       "      <td>0.755075</td>\n",
       "    </tr>\n",
       "    <tr>\n",
       "      <th>...</th>\n",
       "      <td>...</td>\n",
       "      <td>...</td>\n",
       "      <td>...</td>\n",
       "    </tr>\n",
       "    <tr>\n",
       "      <th>148</th>\n",
       "      <td>Central African Republic</td>\n",
       "      <td>9.226101</td>\n",
       "      <td>0.793851</td>\n",
       "    </tr>\n",
       "    <tr>\n",
       "      <th>149</th>\n",
       "      <td>Rwanda</td>\n",
       "      <td>7.069346</td>\n",
       "      <td>0.390576</td>\n",
       "    </tr>\n",
       "    <tr>\n",
       "      <th>150</th>\n",
       "      <td>Zimbabwe</td>\n",
       "      <td>10.510567</td>\n",
       "      <td>0.684749</td>\n",
       "    </tr>\n",
       "    <tr>\n",
       "      <th>151</th>\n",
       "      <td>South Sudan</td>\n",
       "      <td>8.993546</td>\n",
       "      <td>0.940830</td>\n",
       "    </tr>\n",
       "    <tr>\n",
       "      <th>152</th>\n",
       "      <td>Afghanistan</td>\n",
       "      <td>9.779945</td>\n",
       "      <td>0.632862</td>\n",
       "    </tr>\n",
       "  </tbody>\n",
       "</table>\n",
       "<p>153 rows × 3 columns</p>\n",
       "</div>"
      ],
      "text/plain": [
       "                 Country name  Logged GDP per capita  Social support\n",
       "0                     Finland              10.265124        0.934458\n",
       "1                     Denmark               8.576625        0.469758\n",
       "2                 Switzerland              10.405703        0.901884\n",
       "3                     Iceland               9.658156        0.974232\n",
       "4                      Norway               9.956786        0.755075\n",
       "..                        ...                    ...             ...\n",
       "148  Central African Republic               9.226101        0.793851\n",
       "149                    Rwanda               7.069346        0.390576\n",
       "150                  Zimbabwe              10.510567        0.684749\n",
       "151               South Sudan               8.993546        0.940830\n",
       "152               Afghanistan               9.779945        0.632862\n",
       "\n",
       "[153 rows x 3 columns]"
      ]
     },
     "execution_count": 22,
     "metadata": {},
     "output_type": "execute_result"
    }
   ],
   "source": [
    "sim"
   ]
  },
  {
   "cell_type": "code",
   "execution_count": 23,
   "metadata": {},
   "outputs": [
    {
     "data": {
      "text/plain": [
       "<function matplotlib.pyplot.show(*args, **kw)>"
      ]
     },
     "execution_count": 23,
     "metadata": {},
     "output_type": "execute_result"
    },
    {
     "data": {
      "image/png": "[encoded data removed]",
      "text/plain": [
       "<Figure size 432x288 with 1 Axes>"
      ]
     },
     "metadata": {
      "needs_background": "light"
     },
     "output_type": "display_data"
    }
   ],
   "source": [
    "sim.hist(column='Social support')\n",
    "plt.show"
   ]
  },
  {
   "cell_type": "markdown",
   "metadata": {},
   "source": [
    "**Simulating Healthy life expectancy:**"
   ]
  }
 ],
 "metadata": {
  "kernelspec": {
   "display_name": "Python 3",
   "language": "python",
   "name": "python3"
  },
  "language_info": {
   "codemirror_mode": {
    "name": "ipython",
    "version": 3
   },
   "file_extension": ".py",
   "mimetype": "text/x-python",
   "name": "python",
   "nbconvert_exporter": "python",
   "pygments_lexer": "ipython3",
   "version": "3.8.3"
  }
 },
 "nbformat": 4,
 "nbformat_minor": 4
}
