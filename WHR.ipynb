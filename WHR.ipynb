{
 "cells": [
  {
   "cell_type": "markdown",
   "metadata": {},
   "source": [
    "![GMIT](img/gmitlogo.png)\n",
    "\n",
    "# Real-world phenomenon project for Programming for Data Analysis at GMIT.\n",
    "by G00352936\n",
    "\n",
    "### Problem statement\n",
    "\n",
    ">For this project you must create a data set by simulating a real-world phenomenon of\n",
    "your choosing. You may pick any phenomenon you wish – you might pick one that is\n",
    "of interest to you in your personal or professional life. Then, rather than collect data\n",
    "related to the phenomenon, you should model and synthesise such data using Python.\n",
    "We suggest you use the numpy.random package for this purpose.\n",
    "\n",
    ">Specifically, in this project you should:\n",
    ">- Choose a real-world phenomenon that can be measured and for which you could\n",
    "collect at least one-hundred data points across at least four different variables.\n",
    ">- Investigate the types of variables involved, their likely distributions, and their\n",
    "relationships with each other.\n",
    ">- Synthesise/simulate a data set as closely matching their properties as possible.\n",
    ">- Detail your research and implement the simulation in a Jupyter notebook – the\n",
    "data set itself can simply be displayed in an output cell within the notebook.\n",
    "\n",
    ">Note that this project is about simulation – you must synthesise a data set. Some\n",
    "students may already have some real-world data sets in their own files. It is okay to\n",
    "base your synthesised data set on these should you wish (please reference it if you do),\n",
    "but the main task in this project is to create a synthesised data set.\n"
   ]
  },
  {
   "cell_type": "markdown",
   "metadata": {},
   "source": [
    "![WHR](img/logo.jpg)\n",
    "\n",
    "## World Happiness Report\n",
    "\n",
    "\n",
    "The World Happiness Report is an annual publication of the United Nations Sustainable Development Solutions Network. It contains articles, and rankings of national happiness based on respondent ratings of their own lives, which the report also correlates with various life factors. As of March 2020, Finland was ranked the happiest country in the world three times in a row.\n",
    "\n",
    "Data is collected from people in over 150 countries. Each variable measured reveals a populated-weighted average score on a scale running from 0 to 10 that is tracked over time and compared against other countries. These variables currently include: real GDP per capita, social support, healthy life expectancy, freedom to make life choices, generosity, and perceptions of corruption. Each country is also compared against a hypothetical nation called Dystopia. Dystopia represents the lowest national averages for each key variable and is, along with residual error, used as a regression benchmark.\n"
   ]
  },
  {
   "cell_type": "markdown",
   "metadata": {},
   "source": [
    "**What Is Happiness?**\n",
    "\n",
    "Happiness is a state, not a trait; in other words, it isn’t a long-lasting, permanent feature or personality trait, but a more fleeting, changeable state.\n",
    "\n",
    "Happiness is equated with feeling pleasure or contentment, meaning that happiness is not to be confused with joy, ecstasy, bliss, or other more intense feelings.\n",
    "\n",
    "Happiness can be either feeling or showing, meaning that happiness is not necessarily an internal or external experience, but can be both.\n",
    "\n",
    "**Can happiness be measured?**\n",
    "\n",
    "Having the measure of subjective wellbeing makes a scientific explanation of happiness possible… by asking questions such as:\n",
    "\n",
    "- Are you happy?\n",
    "\n",
    "- How would you rate your happiness on a scale of 1 – 10\n",
    "\n",
    "\n",
    "The Experience Sampling Method (ESM) has been valuable in the assessment of subjective well-being. It has been a positive development in the science of happiness.\n",
    "\n",
    "ESM provides an overall indication of well-being over time, based on the total balance of measurement of positive and negative affect at different times (Norrish & Vella-Brodrick, 2008).\n",
    "\n",
    "Researchers have developed several well-validated scales for measuring happiness, supporting its’ validity as a scientific construct."
   ]
  },
  {
   "cell_type": "markdown",
   "metadata": {},
   "source": [
    "## Real World Data:\n"
   ]
  },
  {
   "cell_type": "code",
   "execution_count": 1,
   "metadata": {},
   "outputs": [],
   "source": [
    "# import python packages\n",
    "import numpy as np\n",
    "import pandas as pd\n",
    "from numpy import random\n",
    "import random \n",
    "import pylab as pl\n",
    "import matplotlib.pyplot as plt\n",
    "import seaborn as sns\n"
   ]
  },
  {
   "cell_type": "markdown",
   "metadata": {},
   "source": [
    "**World Happiness Report 2020**"
   ]
  },
  {
   "cell_type": "code",
   "execution_count": 2,
   "metadata": {},
   "outputs": [
    {
     "data": {
      "text/html": [
       "<div>\n",
       "<style scoped>\n",
       "    .dataframe tbody tr th:only-of-type {\n",
       "        vertical-align: middle;\n",
       "    }\n",
       "\n",
       "    .dataframe tbody tr th {\n",
       "        vertical-align: top;\n",
       "    }\n",
       "\n",
       "    .dataframe thead th {\n",
       "        text-align: right;\n",
       "    }\n",
       "</style>\n",
       "<table border=\"1\" class=\"dataframe\">\n",
       "  <thead>\n",
       "    <tr style=\"text-align: right;\">\n",
       "      <th></th>\n",
       "      <th>Country name</th>\n",
       "      <th>Regional indicator</th>\n",
       "      <th>Ladder score</th>\n",
       "      <th>Standard error of ladder score</th>\n",
       "      <th>upperwhisker</th>\n",
       "      <th>lowerwhisker</th>\n",
       "      <th>Logged GDP per capita</th>\n",
       "      <th>Social support</th>\n",
       "      <th>Healthy life expectancy</th>\n",
       "      <th>Freedom to make life choices</th>\n",
       "      <th>Generosity</th>\n",
       "      <th>Perceptions of corruption</th>\n",
       "      <th>Ladder score in Dystopia</th>\n",
       "      <th>Explained by: Log GDP per capita</th>\n",
       "      <th>Explained by: Social support</th>\n",
       "      <th>Explained by: Healthy life expectancy</th>\n",
       "      <th>Explained by: Freedom to make life choices</th>\n",
       "      <th>Explained by: Generosity</th>\n",
       "      <th>Explained by: Perceptions of corruption</th>\n",
       "      <th>Dystopia + residual</th>\n",
       "    </tr>\n",
       "  </thead>\n",
       "  <tbody>\n",
       "    <tr>\n",
       "      <th>0</th>\n",
       "      <td>Finland</td>\n",
       "      <td>Western Europe</td>\n",
       "      <td>7.8087</td>\n",
       "      <td>0.031156</td>\n",
       "      <td>7.869766</td>\n",
       "      <td>7.747634</td>\n",
       "      <td>10.639267</td>\n",
       "      <td>0.954330</td>\n",
       "      <td>71.900825</td>\n",
       "      <td>0.949172</td>\n",
       "      <td>-0.059482</td>\n",
       "      <td>0.195445</td>\n",
       "      <td>1.972317</td>\n",
       "      <td>1.285190</td>\n",
       "      <td>1.499526</td>\n",
       "      <td>0.961271</td>\n",
       "      <td>0.662317</td>\n",
       "      <td>0.159670</td>\n",
       "      <td>0.477857</td>\n",
       "      <td>2.762835</td>\n",
       "    </tr>\n",
       "    <tr>\n",
       "      <th>1</th>\n",
       "      <td>Denmark</td>\n",
       "      <td>Western Europe</td>\n",
       "      <td>7.6456</td>\n",
       "      <td>0.033492</td>\n",
       "      <td>7.711245</td>\n",
       "      <td>7.579955</td>\n",
       "      <td>10.774001</td>\n",
       "      <td>0.955991</td>\n",
       "      <td>72.402504</td>\n",
       "      <td>0.951444</td>\n",
       "      <td>0.066202</td>\n",
       "      <td>0.168489</td>\n",
       "      <td>1.972317</td>\n",
       "      <td>1.326949</td>\n",
       "      <td>1.503449</td>\n",
       "      <td>0.979333</td>\n",
       "      <td>0.665040</td>\n",
       "      <td>0.242793</td>\n",
       "      <td>0.495260</td>\n",
       "      <td>2.432741</td>\n",
       "    </tr>\n",
       "    <tr>\n",
       "      <th>2</th>\n",
       "      <td>Switzerland</td>\n",
       "      <td>Western Europe</td>\n",
       "      <td>7.5599</td>\n",
       "      <td>0.035014</td>\n",
       "      <td>7.628528</td>\n",
       "      <td>7.491272</td>\n",
       "      <td>10.979933</td>\n",
       "      <td>0.942847</td>\n",
       "      <td>74.102448</td>\n",
       "      <td>0.921337</td>\n",
       "      <td>0.105911</td>\n",
       "      <td>0.303728</td>\n",
       "      <td>1.972317</td>\n",
       "      <td>1.390774</td>\n",
       "      <td>1.472403</td>\n",
       "      <td>1.040533</td>\n",
       "      <td>0.628954</td>\n",
       "      <td>0.269056</td>\n",
       "      <td>0.407946</td>\n",
       "      <td>2.350267</td>\n",
       "    </tr>\n",
       "    <tr>\n",
       "      <th>3</th>\n",
       "      <td>Iceland</td>\n",
       "      <td>Western Europe</td>\n",
       "      <td>7.5045</td>\n",
       "      <td>0.059616</td>\n",
       "      <td>7.621347</td>\n",
       "      <td>7.387653</td>\n",
       "      <td>10.772559</td>\n",
       "      <td>0.974670</td>\n",
       "      <td>73.000000</td>\n",
       "      <td>0.948892</td>\n",
       "      <td>0.246944</td>\n",
       "      <td>0.711710</td>\n",
       "      <td>1.972317</td>\n",
       "      <td>1.326502</td>\n",
       "      <td>1.547567</td>\n",
       "      <td>1.000843</td>\n",
       "      <td>0.661981</td>\n",
       "      <td>0.362330</td>\n",
       "      <td>0.144541</td>\n",
       "      <td>2.460688</td>\n",
       "    </tr>\n",
       "    <tr>\n",
       "      <th>4</th>\n",
       "      <td>Norway</td>\n",
       "      <td>Western Europe</td>\n",
       "      <td>7.4880</td>\n",
       "      <td>0.034837</td>\n",
       "      <td>7.556281</td>\n",
       "      <td>7.419719</td>\n",
       "      <td>11.087804</td>\n",
       "      <td>0.952487</td>\n",
       "      <td>73.200783</td>\n",
       "      <td>0.955750</td>\n",
       "      <td>0.134533</td>\n",
       "      <td>0.263218</td>\n",
       "      <td>1.972317</td>\n",
       "      <td>1.424207</td>\n",
       "      <td>1.495173</td>\n",
       "      <td>1.008072</td>\n",
       "      <td>0.670201</td>\n",
       "      <td>0.287985</td>\n",
       "      <td>0.434101</td>\n",
       "      <td>2.168266</td>\n",
       "    </tr>\n",
       "    <tr>\n",
       "      <th>...</th>\n",
       "      <td>...</td>\n",
       "      <td>...</td>\n",
       "      <td>...</td>\n",
       "      <td>...</td>\n",
       "      <td>...</td>\n",
       "      <td>...</td>\n",
       "      <td>...</td>\n",
       "      <td>...</td>\n",
       "      <td>...</td>\n",
       "      <td>...</td>\n",
       "      <td>...</td>\n",
       "      <td>...</td>\n",
       "      <td>...</td>\n",
       "      <td>...</td>\n",
       "      <td>...</td>\n",
       "      <td>...</td>\n",
       "      <td>...</td>\n",
       "      <td>...</td>\n",
       "      <td>...</td>\n",
       "      <td>...</td>\n",
       "    </tr>\n",
       "    <tr>\n",
       "      <th>148</th>\n",
       "      <td>Central African Republic</td>\n",
       "      <td>Sub-Saharan Africa</td>\n",
       "      <td>3.4759</td>\n",
       "      <td>0.115183</td>\n",
       "      <td>3.701658</td>\n",
       "      <td>3.250141</td>\n",
       "      <td>6.625160</td>\n",
       "      <td>0.319460</td>\n",
       "      <td>45.200001</td>\n",
       "      <td>0.640881</td>\n",
       "      <td>0.082410</td>\n",
       "      <td>0.891807</td>\n",
       "      <td>1.972317</td>\n",
       "      <td>0.041072</td>\n",
       "      <td>0.000000</td>\n",
       "      <td>0.000000</td>\n",
       "      <td>0.292814</td>\n",
       "      <td>0.253513</td>\n",
       "      <td>0.028265</td>\n",
       "      <td>2.860198</td>\n",
       "    </tr>\n",
       "    <tr>\n",
       "      <th>149</th>\n",
       "      <td>Rwanda</td>\n",
       "      <td>Sub-Saharan Africa</td>\n",
       "      <td>3.3123</td>\n",
       "      <td>0.052425</td>\n",
       "      <td>3.415053</td>\n",
       "      <td>3.209547</td>\n",
       "      <td>7.600104</td>\n",
       "      <td>0.540835</td>\n",
       "      <td>61.098846</td>\n",
       "      <td>0.900589</td>\n",
       "      <td>0.055484</td>\n",
       "      <td>0.183541</td>\n",
       "      <td>1.972317</td>\n",
       "      <td>0.343243</td>\n",
       "      <td>0.522876</td>\n",
       "      <td>0.572383</td>\n",
       "      <td>0.604088</td>\n",
       "      <td>0.235705</td>\n",
       "      <td>0.485542</td>\n",
       "      <td>0.548445</td>\n",
       "    </tr>\n",
       "    <tr>\n",
       "      <th>150</th>\n",
       "      <td>Zimbabwe</td>\n",
       "      <td>Sub-Saharan Africa</td>\n",
       "      <td>3.2992</td>\n",
       "      <td>0.058674</td>\n",
       "      <td>3.414202</td>\n",
       "      <td>3.184198</td>\n",
       "      <td>7.865712</td>\n",
       "      <td>0.763093</td>\n",
       "      <td>55.617260</td>\n",
       "      <td>0.711458</td>\n",
       "      <td>-0.072064</td>\n",
       "      <td>0.810237</td>\n",
       "      <td>1.972317</td>\n",
       "      <td>0.425564</td>\n",
       "      <td>1.047835</td>\n",
       "      <td>0.375038</td>\n",
       "      <td>0.377405</td>\n",
       "      <td>0.151349</td>\n",
       "      <td>0.080929</td>\n",
       "      <td>0.841031</td>\n",
       "    </tr>\n",
       "    <tr>\n",
       "      <th>151</th>\n",
       "      <td>South Sudan</td>\n",
       "      <td>Sub-Saharan Africa</td>\n",
       "      <td>2.8166</td>\n",
       "      <td>0.107610</td>\n",
       "      <td>3.027516</td>\n",
       "      <td>2.605684</td>\n",
       "      <td>7.425360</td>\n",
       "      <td>0.553707</td>\n",
       "      <td>51.000000</td>\n",
       "      <td>0.451314</td>\n",
       "      <td>0.016519</td>\n",
       "      <td>0.763417</td>\n",
       "      <td>1.972317</td>\n",
       "      <td>0.289083</td>\n",
       "      <td>0.553279</td>\n",
       "      <td>0.208809</td>\n",
       "      <td>0.065609</td>\n",
       "      <td>0.209935</td>\n",
       "      <td>0.111157</td>\n",
       "      <td>1.378751</td>\n",
       "    </tr>\n",
       "    <tr>\n",
       "      <th>152</th>\n",
       "      <td>Afghanistan</td>\n",
       "      <td>South Asia</td>\n",
       "      <td>2.5669</td>\n",
       "      <td>0.031311</td>\n",
       "      <td>2.628270</td>\n",
       "      <td>2.505530</td>\n",
       "      <td>7.462861</td>\n",
       "      <td>0.470367</td>\n",
       "      <td>52.590000</td>\n",
       "      <td>0.396573</td>\n",
       "      <td>-0.096429</td>\n",
       "      <td>0.933687</td>\n",
       "      <td>1.972317</td>\n",
       "      <td>0.300706</td>\n",
       "      <td>0.356434</td>\n",
       "      <td>0.266052</td>\n",
       "      <td>0.000000</td>\n",
       "      <td>0.135235</td>\n",
       "      <td>0.001226</td>\n",
       "      <td>1.507236</td>\n",
       "    </tr>\n",
       "  </tbody>\n",
       "</table>\n",
       "<p>153 rows × 20 columns</p>\n",
       "</div>"
      ],
      "text/plain": [
       "                 Country name  Regional indicator  Ladder score  \\\n",
       "0                     Finland      Western Europe        7.8087   \n",
       "1                     Denmark      Western Europe        7.6456   \n",
       "2                 Switzerland      Western Europe        7.5599   \n",
       "3                     Iceland      Western Europe        7.5045   \n",
       "4                      Norway      Western Europe        7.4880   \n",
       "..                        ...                 ...           ...   \n",
       "148  Central African Republic  Sub-Saharan Africa        3.4759   \n",
       "149                    Rwanda  Sub-Saharan Africa        3.3123   \n",
       "150                  Zimbabwe  Sub-Saharan Africa        3.2992   \n",
       "151               South Sudan  Sub-Saharan Africa        2.8166   \n",
       "152               Afghanistan          South Asia        2.5669   \n",
       "\n",
       "     Standard error of ladder score  upperwhisker  lowerwhisker  \\\n",
       "0                          0.031156      7.869766      7.747634   \n",
       "1                          0.033492      7.711245      7.579955   \n",
       "2                          0.035014      7.628528      7.491272   \n",
       "3                          0.059616      7.621347      7.387653   \n",
       "4                          0.034837      7.556281      7.419719   \n",
       "..                              ...           ...           ...   \n",
       "148                        0.115183      3.701658      3.250141   \n",
       "149                        0.052425      3.415053      3.209547   \n",
       "150                        0.058674      3.414202      3.184198   \n",
       "151                        0.107610      3.027516      2.605684   \n",
       "152                        0.031311      2.628270      2.505530   \n",
       "\n",
       "     Logged GDP per capita  Social support  Healthy life expectancy  \\\n",
       "0                10.639267        0.954330                71.900825   \n",
       "1                10.774001        0.955991                72.402504   \n",
       "2                10.979933        0.942847                74.102448   \n",
       "3                10.772559        0.974670                73.000000   \n",
       "4                11.087804        0.952487                73.200783   \n",
       "..                     ...             ...                      ...   \n",
       "148               6.625160        0.319460                45.200001   \n",
       "149               7.600104        0.540835                61.098846   \n",
       "150               7.865712        0.763093                55.617260   \n",
       "151               7.425360        0.553707                51.000000   \n",
       "152               7.462861        0.470367                52.590000   \n",
       "\n",
       "     Freedom to make life choices  Generosity  Perceptions of corruption  \\\n",
       "0                        0.949172   -0.059482                   0.195445   \n",
       "1                        0.951444    0.066202                   0.168489   \n",
       "2                        0.921337    0.105911                   0.303728   \n",
       "3                        0.948892    0.246944                   0.711710   \n",
       "4                        0.955750    0.134533                   0.263218   \n",
       "..                            ...         ...                        ...   \n",
       "148                      0.640881    0.082410                   0.891807   \n",
       "149                      0.900589    0.055484                   0.183541   \n",
       "150                      0.711458   -0.072064                   0.810237   \n",
       "151                      0.451314    0.016519                   0.763417   \n",
       "152                      0.396573   -0.096429                   0.933687   \n",
       "\n",
       "     Ladder score in Dystopia  Explained by: Log GDP per capita  \\\n",
       "0                    1.972317                          1.285190   \n",
       "1                    1.972317                          1.326949   \n",
       "2                    1.972317                          1.390774   \n",
       "3                    1.972317                          1.326502   \n",
       "4                    1.972317                          1.424207   \n",
       "..                        ...                               ...   \n",
       "148                  1.972317                          0.041072   \n",
       "149                  1.972317                          0.343243   \n",
       "150                  1.972317                          0.425564   \n",
       "151                  1.972317                          0.289083   \n",
       "152                  1.972317                          0.300706   \n",
       "\n",
       "     Explained by: Social support  Explained by: Healthy life expectancy  \\\n",
       "0                        1.499526                               0.961271   \n",
       "1                        1.503449                               0.979333   \n",
       "2                        1.472403                               1.040533   \n",
       "3                        1.547567                               1.000843   \n",
       "4                        1.495173                               1.008072   \n",
       "..                            ...                                    ...   \n",
       "148                      0.000000                               0.000000   \n",
       "149                      0.522876                               0.572383   \n",
       "150                      1.047835                               0.375038   \n",
       "151                      0.553279                               0.208809   \n",
       "152                      0.356434                               0.266052   \n",
       "\n",
       "     Explained by: Freedom to make life choices  Explained by: Generosity  \\\n",
       "0                                      0.662317                  0.159670   \n",
       "1                                      0.665040                  0.242793   \n",
       "2                                      0.628954                  0.269056   \n",
       "3                                      0.661981                  0.362330   \n",
       "4                                      0.670201                  0.287985   \n",
       "..                                          ...                       ...   \n",
       "148                                    0.292814                  0.253513   \n",
       "149                                    0.604088                  0.235705   \n",
       "150                                    0.377405                  0.151349   \n",
       "151                                    0.065609                  0.209935   \n",
       "152                                    0.000000                  0.135235   \n",
       "\n",
       "     Explained by: Perceptions of corruption  Dystopia + residual  \n",
       "0                                   0.477857             2.762835  \n",
       "1                                   0.495260             2.432741  \n",
       "2                                   0.407946             2.350267  \n",
       "3                                   0.144541             2.460688  \n",
       "4                                   0.434101             2.168266  \n",
       "..                                       ...                  ...  \n",
       "148                                 0.028265             2.860198  \n",
       "149                                 0.485542             0.548445  \n",
       "150                                 0.080929             0.841031  \n",
       "151                                 0.111157             1.378751  \n",
       "152                                 0.001226             1.507236  \n",
       "\n",
       "[153 rows x 20 columns]"
      ]
     },
     "execution_count": 2,
     "metadata": {},
     "output_type": "execute_result"
    }
   ],
   "source": [
    "# creating dataframe whr20\n",
    "whr20 = pd.read_csv ('WHR20.csv')\n",
    "whr20"
   ]
  },
  {
   "cell_type": "markdown",
   "metadata": {},
   "source": [
    "Reducing amount of data."
   ]
  },
  {
   "cell_type": "code",
   "execution_count": 3,
   "metadata": {},
   "outputs": [],
   "source": [
    "# dropping columns to reduce amount of variables\n",
    "whr20 = whr20.drop([\"Regional indicator\",\n",
    "                    \"Standard error of ladder score\",\n",
    "                    \"upperwhisker\",\n",
    "                    \"lowerwhisker\",\n",
    "                    \"Ladder score in Dystopia\",\n",
    "                    \"Explained by: Log GDP per capita\",\n",
    "                    \"Explained by: Social support\",\n",
    "                    \"Explained by: Healthy life expectancy\",\n",
    "                    \"Explained by: Freedom to make life choices\",\n",
    "                    \"Explained by: Generosity\",\n",
    "                    \"Dystopia + residual\",\n",
    "                    \"Explained by: Perceptions of corruption\",\n",
    "                    ],axis=1)"
   ]
  },
  {
   "cell_type": "code",
   "execution_count": 4,
   "metadata": {},
   "outputs": [
    {
     "data": {
      "text/html": [
       "<div>\n",
       "<style scoped>\n",
       "    .dataframe tbody tr th:only-of-type {\n",
       "        vertical-align: middle;\n",
       "    }\n",
       "\n",
       "    .dataframe tbody tr th {\n",
       "        vertical-align: top;\n",
       "    }\n",
       "\n",
       "    .dataframe thead th {\n",
       "        text-align: right;\n",
       "    }\n",
       "</style>\n",
       "<table border=\"1\" class=\"dataframe\">\n",
       "  <thead>\n",
       "    <tr style=\"text-align: right;\">\n",
       "      <th></th>\n",
       "      <th>Country name</th>\n",
       "      <th>Ladder score</th>\n",
       "      <th>Logged GDP per capita</th>\n",
       "      <th>Social support</th>\n",
       "      <th>Healthy life expectancy</th>\n",
       "      <th>Freedom to make life choices</th>\n",
       "      <th>Generosity</th>\n",
       "      <th>Perceptions of corruption</th>\n",
       "    </tr>\n",
       "  </thead>\n",
       "  <tbody>\n",
       "    <tr>\n",
       "      <th>0</th>\n",
       "      <td>Finland</td>\n",
       "      <td>7.8087</td>\n",
       "      <td>10.639267</td>\n",
       "      <td>0.954330</td>\n",
       "      <td>71.900825</td>\n",
       "      <td>0.949172</td>\n",
       "      <td>-0.059482</td>\n",
       "      <td>0.195445</td>\n",
       "    </tr>\n",
       "    <tr>\n",
       "      <th>1</th>\n",
       "      <td>Denmark</td>\n",
       "      <td>7.6456</td>\n",
       "      <td>10.774001</td>\n",
       "      <td>0.955991</td>\n",
       "      <td>72.402504</td>\n",
       "      <td>0.951444</td>\n",
       "      <td>0.066202</td>\n",
       "      <td>0.168489</td>\n",
       "    </tr>\n",
       "    <tr>\n",
       "      <th>2</th>\n",
       "      <td>Switzerland</td>\n",
       "      <td>7.5599</td>\n",
       "      <td>10.979933</td>\n",
       "      <td>0.942847</td>\n",
       "      <td>74.102448</td>\n",
       "      <td>0.921337</td>\n",
       "      <td>0.105911</td>\n",
       "      <td>0.303728</td>\n",
       "    </tr>\n",
       "    <tr>\n",
       "      <th>3</th>\n",
       "      <td>Iceland</td>\n",
       "      <td>7.5045</td>\n",
       "      <td>10.772559</td>\n",
       "      <td>0.974670</td>\n",
       "      <td>73.000000</td>\n",
       "      <td>0.948892</td>\n",
       "      <td>0.246944</td>\n",
       "      <td>0.711710</td>\n",
       "    </tr>\n",
       "    <tr>\n",
       "      <th>4</th>\n",
       "      <td>Norway</td>\n",
       "      <td>7.4880</td>\n",
       "      <td>11.087804</td>\n",
       "      <td>0.952487</td>\n",
       "      <td>73.200783</td>\n",
       "      <td>0.955750</td>\n",
       "      <td>0.134533</td>\n",
       "      <td>0.263218</td>\n",
       "    </tr>\n",
       "    <tr>\n",
       "      <th>...</th>\n",
       "      <td>...</td>\n",
       "      <td>...</td>\n",
       "      <td>...</td>\n",
       "      <td>...</td>\n",
       "      <td>...</td>\n",
       "      <td>...</td>\n",
       "      <td>...</td>\n",
       "      <td>...</td>\n",
       "    </tr>\n",
       "    <tr>\n",
       "      <th>148</th>\n",
       "      <td>Central African Republic</td>\n",
       "      <td>3.4759</td>\n",
       "      <td>6.625160</td>\n",
       "      <td>0.319460</td>\n",
       "      <td>45.200001</td>\n",
       "      <td>0.640881</td>\n",
       "      <td>0.082410</td>\n",
       "      <td>0.891807</td>\n",
       "    </tr>\n",
       "    <tr>\n",
       "      <th>149</th>\n",
       "      <td>Rwanda</td>\n",
       "      <td>3.3123</td>\n",
       "      <td>7.600104</td>\n",
       "      <td>0.540835</td>\n",
       "      <td>61.098846</td>\n",
       "      <td>0.900589</td>\n",
       "      <td>0.055484</td>\n",
       "      <td>0.183541</td>\n",
       "    </tr>\n",
       "    <tr>\n",
       "      <th>150</th>\n",
       "      <td>Zimbabwe</td>\n",
       "      <td>3.2992</td>\n",
       "      <td>7.865712</td>\n",
       "      <td>0.763093</td>\n",
       "      <td>55.617260</td>\n",
       "      <td>0.711458</td>\n",
       "      <td>-0.072064</td>\n",
       "      <td>0.810237</td>\n",
       "    </tr>\n",
       "    <tr>\n",
       "      <th>151</th>\n",
       "      <td>South Sudan</td>\n",
       "      <td>2.8166</td>\n",
       "      <td>7.425360</td>\n",
       "      <td>0.553707</td>\n",
       "      <td>51.000000</td>\n",
       "      <td>0.451314</td>\n",
       "      <td>0.016519</td>\n",
       "      <td>0.763417</td>\n",
       "    </tr>\n",
       "    <tr>\n",
       "      <th>152</th>\n",
       "      <td>Afghanistan</td>\n",
       "      <td>2.5669</td>\n",
       "      <td>7.462861</td>\n",
       "      <td>0.470367</td>\n",
       "      <td>52.590000</td>\n",
       "      <td>0.396573</td>\n",
       "      <td>-0.096429</td>\n",
       "      <td>0.933687</td>\n",
       "    </tr>\n",
       "  </tbody>\n",
       "</table>\n",
       "<p>153 rows × 8 columns</p>\n",
       "</div>"
      ],
      "text/plain": [
       "                 Country name  Ladder score  Logged GDP per capita  \\\n",
       "0                     Finland        7.8087              10.639267   \n",
       "1                     Denmark        7.6456              10.774001   \n",
       "2                 Switzerland        7.5599              10.979933   \n",
       "3                     Iceland        7.5045              10.772559   \n",
       "4                      Norway        7.4880              11.087804   \n",
       "..                        ...           ...                    ...   \n",
       "148  Central African Republic        3.4759               6.625160   \n",
       "149                    Rwanda        3.3123               7.600104   \n",
       "150                  Zimbabwe        3.2992               7.865712   \n",
       "151               South Sudan        2.8166               7.425360   \n",
       "152               Afghanistan        2.5669               7.462861   \n",
       "\n",
       "     Social support  Healthy life expectancy  Freedom to make life choices  \\\n",
       "0          0.954330                71.900825                      0.949172   \n",
       "1          0.955991                72.402504                      0.951444   \n",
       "2          0.942847                74.102448                      0.921337   \n",
       "3          0.974670                73.000000                      0.948892   \n",
       "4          0.952487                73.200783                      0.955750   \n",
       "..              ...                      ...                           ...   \n",
       "148        0.319460                45.200001                      0.640881   \n",
       "149        0.540835                61.098846                      0.900589   \n",
       "150        0.763093                55.617260                      0.711458   \n",
       "151        0.553707                51.000000                      0.451314   \n",
       "152        0.470367                52.590000                      0.396573   \n",
       "\n",
       "     Generosity  Perceptions of corruption  \n",
       "0     -0.059482                   0.195445  \n",
       "1      0.066202                   0.168489  \n",
       "2      0.105911                   0.303728  \n",
       "3      0.246944                   0.711710  \n",
       "4      0.134533                   0.263218  \n",
       "..          ...                        ...  \n",
       "148    0.082410                   0.891807  \n",
       "149    0.055484                   0.183541  \n",
       "150   -0.072064                   0.810237  \n",
       "151    0.016519                   0.763417  \n",
       "152   -0.096429                   0.933687  \n",
       "\n",
       "[153 rows x 8 columns]"
      ]
     },
     "execution_count": 4,
     "metadata": {},
     "output_type": "execute_result"
    }
   ],
   "source": [
    "whr20"
   ]
  },
  {
   "cell_type": "markdown",
   "metadata": {},
   "source": [
    "Checking ranges of our columns, by looking at min and max."
   ]
  },
  {
   "cell_type": "code",
   "execution_count": 5,
   "metadata": {},
   "outputs": [
    {
     "data": {
      "text/html": [
       "<div>\n",
       "<style scoped>\n",
       "    .dataframe tbody tr th:only-of-type {\n",
       "        vertical-align: middle;\n",
       "    }\n",
       "\n",
       "    .dataframe tbody tr th {\n",
       "        vertical-align: top;\n",
       "    }\n",
       "\n",
       "    .dataframe thead th {\n",
       "        text-align: right;\n",
       "    }\n",
       "</style>\n",
       "<table border=\"1\" class=\"dataframe\">\n",
       "  <thead>\n",
       "    <tr style=\"text-align: right;\">\n",
       "      <th></th>\n",
       "      <th>Ladder score</th>\n",
       "      <th>Logged GDP per capita</th>\n",
       "      <th>Social support</th>\n",
       "      <th>Healthy life expectancy</th>\n",
       "      <th>Freedom to make life choices</th>\n",
       "      <th>Generosity</th>\n",
       "      <th>Perceptions of corruption</th>\n",
       "    </tr>\n",
       "  </thead>\n",
       "  <tbody>\n",
       "    <tr>\n",
       "      <th>count</th>\n",
       "      <td>153.00000</td>\n",
       "      <td>153.000000</td>\n",
       "      <td>153.000000</td>\n",
       "      <td>153.000000</td>\n",
       "      <td>153.000000</td>\n",
       "      <td>153.000000</td>\n",
       "      <td>153.000000</td>\n",
       "    </tr>\n",
       "    <tr>\n",
       "      <th>mean</th>\n",
       "      <td>5.47324</td>\n",
       "      <td>9.295706</td>\n",
       "      <td>0.808721</td>\n",
       "      <td>64.445529</td>\n",
       "      <td>0.783360</td>\n",
       "      <td>-0.014568</td>\n",
       "      <td>0.733120</td>\n",
       "    </tr>\n",
       "    <tr>\n",
       "      <th>std</th>\n",
       "      <td>1.11227</td>\n",
       "      <td>1.201588</td>\n",
       "      <td>0.121453</td>\n",
       "      <td>7.057848</td>\n",
       "      <td>0.117786</td>\n",
       "      <td>0.151809</td>\n",
       "      <td>0.175172</td>\n",
       "    </tr>\n",
       "    <tr>\n",
       "      <th>min</th>\n",
       "      <td>2.56690</td>\n",
       "      <td>6.492642</td>\n",
       "      <td>0.319460</td>\n",
       "      <td>45.200001</td>\n",
       "      <td>0.396573</td>\n",
       "      <td>-0.300907</td>\n",
       "      <td>0.109784</td>\n",
       "    </tr>\n",
       "    <tr>\n",
       "      <th>25%</th>\n",
       "      <td>4.72410</td>\n",
       "      <td>8.350645</td>\n",
       "      <td>0.737217</td>\n",
       "      <td>58.961712</td>\n",
       "      <td>0.714839</td>\n",
       "      <td>-0.127015</td>\n",
       "      <td>0.683019</td>\n",
       "    </tr>\n",
       "    <tr>\n",
       "      <th>50%</th>\n",
       "      <td>5.51500</td>\n",
       "      <td>9.456313</td>\n",
       "      <td>0.829204</td>\n",
       "      <td>66.305145</td>\n",
       "      <td>0.799805</td>\n",
       "      <td>-0.033665</td>\n",
       "      <td>0.783122</td>\n",
       "    </tr>\n",
       "    <tr>\n",
       "      <th>75%</th>\n",
       "      <td>6.22850</td>\n",
       "      <td>10.265124</td>\n",
       "      <td>0.906747</td>\n",
       "      <td>69.289192</td>\n",
       "      <td>0.877709</td>\n",
       "      <td>0.085429</td>\n",
       "      <td>0.849151</td>\n",
       "    </tr>\n",
       "    <tr>\n",
       "      <th>max</th>\n",
       "      <td>7.80870</td>\n",
       "      <td>11.450681</td>\n",
       "      <td>0.974670</td>\n",
       "      <td>76.804581</td>\n",
       "      <td>0.974998</td>\n",
       "      <td>0.560664</td>\n",
       "      <td>0.935585</td>\n",
       "    </tr>\n",
       "  </tbody>\n",
       "</table>\n",
       "</div>"
      ],
      "text/plain": [
       "       Ladder score  Logged GDP per capita  Social support  \\\n",
       "count     153.00000             153.000000      153.000000   \n",
       "mean        5.47324               9.295706        0.808721   \n",
       "std         1.11227               1.201588        0.121453   \n",
       "min         2.56690               6.492642        0.319460   \n",
       "25%         4.72410               8.350645        0.737217   \n",
       "50%         5.51500               9.456313        0.829204   \n",
       "75%         6.22850              10.265124        0.906747   \n",
       "max         7.80870              11.450681        0.974670   \n",
       "\n",
       "       Healthy life expectancy  Freedom to make life choices  Generosity  \\\n",
       "count               153.000000                    153.000000  153.000000   \n",
       "mean                 64.445529                      0.783360   -0.014568   \n",
       "std                   7.057848                      0.117786    0.151809   \n",
       "min                  45.200001                      0.396573   -0.300907   \n",
       "25%                  58.961712                      0.714839   -0.127015   \n",
       "50%                  66.305145                      0.799805   -0.033665   \n",
       "75%                  69.289192                      0.877709    0.085429   \n",
       "max                  76.804581                      0.974998    0.560664   \n",
       "\n",
       "       Perceptions of corruption  \n",
       "count                 153.000000  \n",
       "mean                    0.733120  \n",
       "std                     0.175172  \n",
       "min                     0.109784  \n",
       "25%                     0.683019  \n",
       "50%                     0.783122  \n",
       "75%                     0.849151  \n",
       "max                     0.935585  "
      ]
     },
     "execution_count": 5,
     "metadata": {},
     "output_type": "execute_result"
    }
   ],
   "source": [
    "whr20.describe()"
   ]
  },
  {
   "cell_type": "code",
   "execution_count": 6,
   "metadata": {},
   "outputs": [
    {
     "data": {
      "text/plain": [
       "Country name                    Afghanistan\n",
       "Ladder score                         2.5669\n",
       "Logged GDP per capita               6.49264\n",
       "Social support                      0.31946\n",
       "Healthy life expectancy                45.2\n",
       "Freedom to make life choices       0.396573\n",
       "Generosity                        -0.300907\n",
       "Perceptions of corruption          0.109784\n",
       "dtype: object"
      ]
     },
     "execution_count": 6,
     "metadata": {},
     "output_type": "execute_result"
    }
   ],
   "source": [
    "whr20.min()"
   ]
  },
  {
   "cell_type": "code",
   "execution_count": 7,
   "metadata": {},
   "outputs": [
    {
     "data": {
      "text/plain": [
       "Country name                    Zimbabwe\n",
       "Ladder score                      7.8087\n",
       "Logged GDP per capita            11.4507\n",
       "Social support                   0.97467\n",
       "Healthy life expectancy          76.8046\n",
       "Freedom to make life choices    0.974998\n",
       "Generosity                      0.560664\n",
       "Perceptions of corruption       0.935585\n",
       "dtype: object"
      ]
     },
     "execution_count": 7,
     "metadata": {},
     "output_type": "execute_result"
    }
   ],
   "source": [
    "whr20.max()"
   ]
  },
  {
   "cell_type": "markdown",
   "metadata": {},
   "source": [
    "## Simulated  World Data:\n",
    "\n",
    "### Variables: "
   ]
  },
  {
   "cell_type": "code",
   "execution_count": 8,
   "metadata": {},
   "outputs": [
    {
     "data": {
      "text/html": [
       "<div>\n",
       "<style scoped>\n",
       "    .dataframe tbody tr th:only-of-type {\n",
       "        vertical-align: middle;\n",
       "    }\n",
       "\n",
       "    .dataframe tbody tr th {\n",
       "        vertical-align: top;\n",
       "    }\n",
       "\n",
       "    .dataframe thead th {\n",
       "        text-align: right;\n",
       "    }\n",
       "</style>\n",
       "<table border=\"1\" class=\"dataframe\">\n",
       "  <thead>\n",
       "    <tr style=\"text-align: right;\">\n",
       "      <th></th>\n",
       "      <th>Country name</th>\n",
       "      <th>Ladder score</th>\n",
       "      <th>Logged GDP per capita</th>\n",
       "      <th>Social support</th>\n",
       "      <th>Healthy life expectancy</th>\n",
       "      <th>Freedom to make life choices</th>\n",
       "      <th>Generosity</th>\n",
       "      <th>Perceptions of corruption</th>\n",
       "    </tr>\n",
       "  </thead>\n",
       "  <tbody>\n",
       "  </tbody>\n",
       "</table>\n",
       "</div>"
      ],
      "text/plain": [
       "Empty DataFrame\n",
       "Columns: [Country name, Ladder score, Logged GDP per capita, Social support, Healthy life expectancy, Freedom to make life choices, Generosity, Perceptions of corruption]\n",
       "Index: []"
      ]
     },
     "execution_count": 8,
     "metadata": {},
     "output_type": "execute_result"
    }
   ],
   "source": [
    "whr20.head(0)"
   ]
  },
  {
   "cell_type": "code",
   "execution_count": 9,
   "metadata": {},
   "outputs": [],
   "source": [
    "sim = pd.DataFrame()"
   ]
  },
  {
   "cell_type": "code",
   "execution_count": 10,
   "metadata": {},
   "outputs": [],
   "source": [
    "sim['Country name'] =  whr20['Country name']"
   ]
  },
  {
   "cell_type": "code",
   "execution_count": 11,
   "metadata": {},
   "outputs": [
    {
     "data": {
      "text/html": [
       "<div>\n",
       "<style scoped>\n",
       "    .dataframe tbody tr th:only-of-type {\n",
       "        vertical-align: middle;\n",
       "    }\n",
       "\n",
       "    .dataframe tbody tr th {\n",
       "        vertical-align: top;\n",
       "    }\n",
       "\n",
       "    .dataframe thead th {\n",
       "        text-align: right;\n",
       "    }\n",
       "</style>\n",
       "<table border=\"1\" class=\"dataframe\">\n",
       "  <thead>\n",
       "    <tr style=\"text-align: right;\">\n",
       "      <th></th>\n",
       "      <th>Country name</th>\n",
       "    </tr>\n",
       "  </thead>\n",
       "  <tbody>\n",
       "    <tr>\n",
       "      <th>0</th>\n",
       "      <td>Finland</td>\n",
       "    </tr>\n",
       "    <tr>\n",
       "      <th>1</th>\n",
       "      <td>Denmark</td>\n",
       "    </tr>\n",
       "    <tr>\n",
       "      <th>2</th>\n",
       "      <td>Switzerland</td>\n",
       "    </tr>\n",
       "    <tr>\n",
       "      <th>3</th>\n",
       "      <td>Iceland</td>\n",
       "    </tr>\n",
       "    <tr>\n",
       "      <th>4</th>\n",
       "      <td>Norway</td>\n",
       "    </tr>\n",
       "    <tr>\n",
       "      <th>...</th>\n",
       "      <td>...</td>\n",
       "    </tr>\n",
       "    <tr>\n",
       "      <th>148</th>\n",
       "      <td>Central African Republic</td>\n",
       "    </tr>\n",
       "    <tr>\n",
       "      <th>149</th>\n",
       "      <td>Rwanda</td>\n",
       "    </tr>\n",
       "    <tr>\n",
       "      <th>150</th>\n",
       "      <td>Zimbabwe</td>\n",
       "    </tr>\n",
       "    <tr>\n",
       "      <th>151</th>\n",
       "      <td>South Sudan</td>\n",
       "    </tr>\n",
       "    <tr>\n",
       "      <th>152</th>\n",
       "      <td>Afghanistan</td>\n",
       "    </tr>\n",
       "  </tbody>\n",
       "</table>\n",
       "<p>153 rows × 1 columns</p>\n",
       "</div>"
      ],
      "text/plain": [
       "                 Country name\n",
       "0                     Finland\n",
       "1                     Denmark\n",
       "2                 Switzerland\n",
       "3                     Iceland\n",
       "4                      Norway\n",
       "..                        ...\n",
       "148  Central African Republic\n",
       "149                    Rwanda\n",
       "150                  Zimbabwe\n",
       "151               South Sudan\n",
       "152               Afghanistan\n",
       "\n",
       "[153 rows x 1 columns]"
      ]
     },
     "execution_count": 11,
     "metadata": {},
     "output_type": "execute_result"
    }
   ],
   "source": [
    "sim"
   ]
  },
  {
   "cell_type": "markdown",
   "metadata": {},
   "source": [
    "**Simulating Logged GDP per capita:**"
   ]
  },
  {
   "cell_type": "code",
   "execution_count": 12,
   "metadata": {},
   "outputs": [],
   "source": [
    "gdp = np.random.choice(whr20['Logged GDP per capita'], size = 153)"
   ]
  },
  {
   "cell_type": "code",
   "execution_count": 13,
   "metadata": {},
   "outputs": [],
   "source": [
    "sim['Logged GDP per capita'] = gdp"
   ]
  },
  {
   "cell_type": "code",
   "execution_count": 14,
   "metadata": {},
   "outputs": [
    {
     "data": {
      "text/html": [
       "<div>\n",
       "<style scoped>\n",
       "    .dataframe tbody tr th:only-of-type {\n",
       "        vertical-align: middle;\n",
       "    }\n",
       "\n",
       "    .dataframe tbody tr th {\n",
       "        vertical-align: top;\n",
       "    }\n",
       "\n",
       "    .dataframe thead th {\n",
       "        text-align: right;\n",
       "    }\n",
       "</style>\n",
       "<table border=\"1\" class=\"dataframe\">\n",
       "  <thead>\n",
       "    <tr style=\"text-align: right;\">\n",
       "      <th></th>\n",
       "      <th>Country name</th>\n",
       "      <th>Logged GDP per capita</th>\n",
       "    </tr>\n",
       "  </thead>\n",
       "  <tbody>\n",
       "    <tr>\n",
       "      <th>0</th>\n",
       "      <td>Finland</td>\n",
       "      <td>9.100476</td>\n",
       "    </tr>\n",
       "    <tr>\n",
       "      <th>1</th>\n",
       "      <td>Denmark</td>\n",
       "      <td>8.148405</td>\n",
       "    </tr>\n",
       "    <tr>\n",
       "      <th>2</th>\n",
       "      <td>Switzerland</td>\n",
       "      <td>7.054380</td>\n",
       "    </tr>\n",
       "    <tr>\n",
       "      <th>3</th>\n",
       "      <td>Iceland</td>\n",
       "      <td>9.687727</td>\n",
       "    </tr>\n",
       "    <tr>\n",
       "      <th>4</th>\n",
       "      <td>Norway</td>\n",
       "      <td>7.411329</td>\n",
       "    </tr>\n",
       "    <tr>\n",
       "      <th>...</th>\n",
       "      <td>...</td>\n",
       "      <td>...</td>\n",
       "    </tr>\n",
       "    <tr>\n",
       "      <th>148</th>\n",
       "      <td>Central African Republic</td>\n",
       "      <td>8.224720</td>\n",
       "    </tr>\n",
       "    <tr>\n",
       "      <th>149</th>\n",
       "      <td>Rwanda</td>\n",
       "      <td>8.148405</td>\n",
       "    </tr>\n",
       "    <tr>\n",
       "      <th>150</th>\n",
       "      <td>Zimbabwe</td>\n",
       "      <td>8.576625</td>\n",
       "    </tr>\n",
       "    <tr>\n",
       "      <th>151</th>\n",
       "      <td>South Sudan</td>\n",
       "      <td>9.369752</td>\n",
       "    </tr>\n",
       "    <tr>\n",
       "      <th>152</th>\n",
       "      <td>Afghanistan</td>\n",
       "      <td>10.775685</td>\n",
       "    </tr>\n",
       "  </tbody>\n",
       "</table>\n",
       "<p>153 rows × 2 columns</p>\n",
       "</div>"
      ],
      "text/plain": [
       "                 Country name  Logged GDP per capita\n",
       "0                     Finland               9.100476\n",
       "1                     Denmark               8.148405\n",
       "2                 Switzerland               7.054380\n",
       "3                     Iceland               9.687727\n",
       "4                      Norway               7.411329\n",
       "..                        ...                    ...\n",
       "148  Central African Republic               8.224720\n",
       "149                    Rwanda               8.148405\n",
       "150                  Zimbabwe               8.576625\n",
       "151               South Sudan               9.369752\n",
       "152               Afghanistan              10.775685\n",
       "\n",
       "[153 rows x 2 columns]"
      ]
     },
     "execution_count": 14,
     "metadata": {},
     "output_type": "execute_result"
    }
   ],
   "source": [
    "sim"
   ]
  },
  {
   "cell_type": "markdown",
   "metadata": {},
   "source": [
    "Comparing simulated GDP to real word data on histogram:"
   ]
  },
  {
   "cell_type": "code",
   "execution_count": 15,
   "metadata": {},
   "outputs": [
    {
     "data": {
      "image/png": "[encoded data removed]",
      "text/plain": [
       "<Figure size 432x288 with 1 Axes>"
      ]
     },
     "metadata": {
      "needs_background": "light"
     },
     "output_type": "display_data"
    },
    {
     "data": {
      "image/png": "[encoded data removed]",
      "text/plain": [
       "<Figure size 432x288 with 1 Axes>"
      ]
     },
     "metadata": {
      "needs_background": "light"
     },
     "output_type": "display_data"
    }
   ],
   "source": [
    "sim.hist(column='Logged GDP per capita')\n",
    "pl.suptitle(\"Simulation\")\n",
    "plt.show\n",
    "whr20.hist(column='Logged GDP per capita') # poisson invers\n",
    "pl.suptitle(\"Real World\")\n",
    "plt.show()"
   ]
  },
  {
   "cell_type": "markdown",
   "metadata": {},
   "source": [
    "**Simulating Social support:**"
   ]
  },
  {
   "cell_type": "code",
   "execution_count": 16,
   "metadata": {},
   "outputs": [],
   "source": [
    "social = np.random.triangular(0.319, 0.975, 1, 153)\n",
    "sim['Social support'] = social"
   ]
  },
  {
   "cell_type": "code",
   "execution_count": 17,
   "metadata": {},
   "outputs": [
    {
     "data": {
      "text/html": [
       "<div>\n",
       "<style scoped>\n",
       "    .dataframe tbody tr th:only-of-type {\n",
       "        vertical-align: middle;\n",
       "    }\n",
       "\n",
       "    .dataframe tbody tr th {\n",
       "        vertical-align: top;\n",
       "    }\n",
       "\n",
       "    .dataframe thead th {\n",
       "        text-align: right;\n",
       "    }\n",
       "</style>\n",
       "<table border=\"1\" class=\"dataframe\">\n",
       "  <thead>\n",
       "    <tr style=\"text-align: right;\">\n",
       "      <th></th>\n",
       "      <th>Country name</th>\n",
       "      <th>Logged GDP per capita</th>\n",
       "      <th>Social support</th>\n",
       "    </tr>\n",
       "  </thead>\n",
       "  <tbody>\n",
       "    <tr>\n",
       "      <th>0</th>\n",
       "      <td>Finland</td>\n",
       "      <td>9.100476</td>\n",
       "      <td>0.826733</td>\n",
       "    </tr>\n",
       "    <tr>\n",
       "      <th>1</th>\n",
       "      <td>Denmark</td>\n",
       "      <td>8.148405</td>\n",
       "      <td>0.562013</td>\n",
       "    </tr>\n",
       "    <tr>\n",
       "      <th>2</th>\n",
       "      <td>Switzerland</td>\n",
       "      <td>7.054380</td>\n",
       "      <td>0.844096</td>\n",
       "    </tr>\n",
       "    <tr>\n",
       "      <th>3</th>\n",
       "      <td>Iceland</td>\n",
       "      <td>9.687727</td>\n",
       "      <td>0.887983</td>\n",
       "    </tr>\n",
       "    <tr>\n",
       "      <th>4</th>\n",
       "      <td>Norway</td>\n",
       "      <td>7.411329</td>\n",
       "      <td>0.941327</td>\n",
       "    </tr>\n",
       "    <tr>\n",
       "      <th>...</th>\n",
       "      <td>...</td>\n",
       "      <td>...</td>\n",
       "      <td>...</td>\n",
       "    </tr>\n",
       "    <tr>\n",
       "      <th>148</th>\n",
       "      <td>Central African Republic</td>\n",
       "      <td>8.224720</td>\n",
       "      <td>0.615416</td>\n",
       "    </tr>\n",
       "    <tr>\n",
       "      <th>149</th>\n",
       "      <td>Rwanda</td>\n",
       "      <td>8.148405</td>\n",
       "      <td>0.703171</td>\n",
       "    </tr>\n",
       "    <tr>\n",
       "      <th>150</th>\n",
       "      <td>Zimbabwe</td>\n",
       "      <td>8.576625</td>\n",
       "      <td>0.788184</td>\n",
       "    </tr>\n",
       "    <tr>\n",
       "      <th>151</th>\n",
       "      <td>South Sudan</td>\n",
       "      <td>9.369752</td>\n",
       "      <td>0.826469</td>\n",
       "    </tr>\n",
       "    <tr>\n",
       "      <th>152</th>\n",
       "      <td>Afghanistan</td>\n",
       "      <td>10.775685</td>\n",
       "      <td>0.591039</td>\n",
       "    </tr>\n",
       "  </tbody>\n",
       "</table>\n",
       "<p>153 rows × 3 columns</p>\n",
       "</div>"
      ],
      "text/plain": [
       "                 Country name  Logged GDP per capita  Social support\n",
       "0                     Finland               9.100476        0.826733\n",
       "1                     Denmark               8.148405        0.562013\n",
       "2                 Switzerland               7.054380        0.844096\n",
       "3                     Iceland               9.687727        0.887983\n",
       "4                      Norway               7.411329        0.941327\n",
       "..                        ...                    ...             ...\n",
       "148  Central African Republic               8.224720        0.615416\n",
       "149                    Rwanda               8.148405        0.703171\n",
       "150                  Zimbabwe               8.576625        0.788184\n",
       "151               South Sudan               9.369752        0.826469\n",
       "152               Afghanistan              10.775685        0.591039\n",
       "\n",
       "[153 rows x 3 columns]"
      ]
     },
     "execution_count": 17,
     "metadata": {},
     "output_type": "execute_result"
    }
   ],
   "source": [
    "sim"
   ]
  },
  {
   "cell_type": "markdown",
   "metadata": {},
   "source": [
    "Comparing simulated Social support to real word data on histogram:"
   ]
  },
  {
   "cell_type": "code",
   "execution_count": 18,
   "metadata": {},
   "outputs": [
    {
     "data": {
      "image/png": "[encoded data removed]",
      "text/plain": [
       "<Figure size 432x288 with 1 Axes>"
      ]
     },
     "metadata": {
      "needs_background": "light"
     },
     "output_type": "display_data"
    },
    {
     "data": {
      "image/png": "[encoded data removed]",
      "text/plain": [
       "<Figure size 432x288 with 1 Axes>"
      ]
     },
     "metadata": {
      "needs_background": "light"
     },
     "output_type": "display_data"
    }
   ],
   "source": [
    "sim.hist(column='Social support')\n",
    "pl.suptitle(\"Simulation\")\n",
    "plt.show\n",
    "whr20.hist(column='Social support')\n",
    "pl.suptitle(\"Real World\")\n",
    "plt.show()"
   ]
  },
  {
   "cell_type": "markdown",
   "metadata": {},
   "source": [
    "**Simulating Healthy life expectancy:**"
   ]
  },
  {
   "cell_type": "code",
   "execution_count": 19,
   "metadata": {},
   "outputs": [],
   "source": [
    "health = np.random.logistic(65, 2.5, 153)\n",
    "sim['Healthy life expectancy'] = health"
   ]
  },
  {
   "cell_type": "code",
   "execution_count": 20,
   "metadata": {},
   "outputs": [
    {
     "data": {
      "text/html": [
       "<div>\n",
       "<style scoped>\n",
       "    .dataframe tbody tr th:only-of-type {\n",
       "        vertical-align: middle;\n",
       "    }\n",
       "\n",
       "    .dataframe tbody tr th {\n",
       "        vertical-align: top;\n",
       "    }\n",
       "\n",
       "    .dataframe thead th {\n",
       "        text-align: right;\n",
       "    }\n",
       "</style>\n",
       "<table border=\"1\" class=\"dataframe\">\n",
       "  <thead>\n",
       "    <tr style=\"text-align: right;\">\n",
       "      <th></th>\n",
       "      <th>Country name</th>\n",
       "      <th>Logged GDP per capita</th>\n",
       "      <th>Social support</th>\n",
       "      <th>Healthy life expectancy</th>\n",
       "    </tr>\n",
       "  </thead>\n",
       "  <tbody>\n",
       "    <tr>\n",
       "      <th>0</th>\n",
       "      <td>Finland</td>\n",
       "      <td>9.100476</td>\n",
       "      <td>0.826733</td>\n",
       "      <td>64.205320</td>\n",
       "    </tr>\n",
       "    <tr>\n",
       "      <th>1</th>\n",
       "      <td>Denmark</td>\n",
       "      <td>8.148405</td>\n",
       "      <td>0.562013</td>\n",
       "      <td>60.417723</td>\n",
       "    </tr>\n",
       "    <tr>\n",
       "      <th>2</th>\n",
       "      <td>Switzerland</td>\n",
       "      <td>7.054380</td>\n",
       "      <td>0.844096</td>\n",
       "      <td>63.642913</td>\n",
       "    </tr>\n",
       "    <tr>\n",
       "      <th>3</th>\n",
       "      <td>Iceland</td>\n",
       "      <td>9.687727</td>\n",
       "      <td>0.887983</td>\n",
       "      <td>71.668933</td>\n",
       "    </tr>\n",
       "    <tr>\n",
       "      <th>4</th>\n",
       "      <td>Norway</td>\n",
       "      <td>7.411329</td>\n",
       "      <td>0.941327</td>\n",
       "      <td>61.902369</td>\n",
       "    </tr>\n",
       "    <tr>\n",
       "      <th>...</th>\n",
       "      <td>...</td>\n",
       "      <td>...</td>\n",
       "      <td>...</td>\n",
       "      <td>...</td>\n",
       "    </tr>\n",
       "    <tr>\n",
       "      <th>148</th>\n",
       "      <td>Central African Republic</td>\n",
       "      <td>8.224720</td>\n",
       "      <td>0.615416</td>\n",
       "      <td>68.804291</td>\n",
       "    </tr>\n",
       "    <tr>\n",
       "      <th>149</th>\n",
       "      <td>Rwanda</td>\n",
       "      <td>8.148405</td>\n",
       "      <td>0.703171</td>\n",
       "      <td>59.894689</td>\n",
       "    </tr>\n",
       "    <tr>\n",
       "      <th>150</th>\n",
       "      <td>Zimbabwe</td>\n",
       "      <td>8.576625</td>\n",
       "      <td>0.788184</td>\n",
       "      <td>61.068613</td>\n",
       "    </tr>\n",
       "    <tr>\n",
       "      <th>151</th>\n",
       "      <td>South Sudan</td>\n",
       "      <td>9.369752</td>\n",
       "      <td>0.826469</td>\n",
       "      <td>62.404473</td>\n",
       "    </tr>\n",
       "    <tr>\n",
       "      <th>152</th>\n",
       "      <td>Afghanistan</td>\n",
       "      <td>10.775685</td>\n",
       "      <td>0.591039</td>\n",
       "      <td>72.864832</td>\n",
       "    </tr>\n",
       "  </tbody>\n",
       "</table>\n",
       "<p>153 rows × 4 columns</p>\n",
       "</div>"
      ],
      "text/plain": [
       "                 Country name  Logged GDP per capita  Social support  \\\n",
       "0                     Finland               9.100476        0.826733   \n",
       "1                     Denmark               8.148405        0.562013   \n",
       "2                 Switzerland               7.054380        0.844096   \n",
       "3                     Iceland               9.687727        0.887983   \n",
       "4                      Norway               7.411329        0.941327   \n",
       "..                        ...                    ...             ...   \n",
       "148  Central African Republic               8.224720        0.615416   \n",
       "149                    Rwanda               8.148405        0.703171   \n",
       "150                  Zimbabwe               8.576625        0.788184   \n",
       "151               South Sudan               9.369752        0.826469   \n",
       "152               Afghanistan              10.775685        0.591039   \n",
       "\n",
       "     Healthy life expectancy  \n",
       "0                  64.205320  \n",
       "1                  60.417723  \n",
       "2                  63.642913  \n",
       "3                  71.668933  \n",
       "4                  61.902369  \n",
       "..                       ...  \n",
       "148                68.804291  \n",
       "149                59.894689  \n",
       "150                61.068613  \n",
       "151                62.404473  \n",
       "152                72.864832  \n",
       "\n",
       "[153 rows x 4 columns]"
      ]
     },
     "execution_count": 20,
     "metadata": {},
     "output_type": "execute_result"
    }
   ],
   "source": [
    "sim"
   ]
  },
  {
   "cell_type": "markdown",
   "metadata": {},
   "source": [
    "Comparing simulated Health to real word data on histogram:"
   ]
  },
  {
   "cell_type": "code",
   "execution_count": 21,
   "metadata": {},
   "outputs": [
    {
     "data": {
      "image/png": "[encoded data removed]",
      "text/plain": [
       "<Figure size 432x288 with 1 Axes>"
      ]
     },
     "metadata": {
      "needs_background": "light"
     },
     "output_type": "display_data"
    },
    {
     "data": {
      "image/png": "[encoded data removed]",
      "text/plain": [
       "<Figure size 432x288 with 1 Axes>"
      ]
     },
     "metadata": {
      "needs_background": "light"
     },
     "output_type": "display_data"
    }
   ],
   "source": [
    "sim.hist(column='Healthy life expectancy')\n",
    "pl.suptitle(\"Simulation\")\n",
    "plt.show\n",
    "whr20.hist(column='Healthy life expectancy')\n",
    "pl.suptitle(\"Real World\")\n",
    "plt.show()"
   ]
  },
  {
   "cell_type": "markdown",
   "metadata": {},
   "source": [
    "**Simulating Freedom to make life choices:**"
   ]
  },
  {
   "cell_type": "code",
   "execution_count": 22,
   "metadata": {},
   "outputs": [],
   "source": [
    "freedom = np.random.power(2.25, 153) \n",
    "sim['Freedom to make life choices'] = freedom"
   ]
  },
  {
   "cell_type": "code",
   "execution_count": 23,
   "metadata": {},
   "outputs": [
    {
     "data": {
      "text/html": [
       "<div>\n",
       "<style scoped>\n",
       "    .dataframe tbody tr th:only-of-type {\n",
       "        vertical-align: middle;\n",
       "    }\n",
       "\n",
       "    .dataframe tbody tr th {\n",
       "        vertical-align: top;\n",
       "    }\n",
       "\n",
       "    .dataframe thead th {\n",
       "        text-align: right;\n",
       "    }\n",
       "</style>\n",
       "<table border=\"1\" class=\"dataframe\">\n",
       "  <thead>\n",
       "    <tr style=\"text-align: right;\">\n",
       "      <th></th>\n",
       "      <th>Country name</th>\n",
       "      <th>Logged GDP per capita</th>\n",
       "      <th>Social support</th>\n",
       "      <th>Healthy life expectancy</th>\n",
       "      <th>Freedom to make life choices</th>\n",
       "    </tr>\n",
       "  </thead>\n",
       "  <tbody>\n",
       "    <tr>\n",
       "      <th>0</th>\n",
       "      <td>Finland</td>\n",
       "      <td>9.100476</td>\n",
       "      <td>0.826733</td>\n",
       "      <td>64.205320</td>\n",
       "      <td>0.036921</td>\n",
       "    </tr>\n",
       "    <tr>\n",
       "      <th>1</th>\n",
       "      <td>Denmark</td>\n",
       "      <td>8.148405</td>\n",
       "      <td>0.562013</td>\n",
       "      <td>60.417723</td>\n",
       "      <td>0.807409</td>\n",
       "    </tr>\n",
       "    <tr>\n",
       "      <th>2</th>\n",
       "      <td>Switzerland</td>\n",
       "      <td>7.054380</td>\n",
       "      <td>0.844096</td>\n",
       "      <td>63.642913</td>\n",
       "      <td>0.575641</td>\n",
       "    </tr>\n",
       "    <tr>\n",
       "      <th>3</th>\n",
       "      <td>Iceland</td>\n",
       "      <td>9.687727</td>\n",
       "      <td>0.887983</td>\n",
       "      <td>71.668933</td>\n",
       "      <td>0.608604</td>\n",
       "    </tr>\n",
       "    <tr>\n",
       "      <th>4</th>\n",
       "      <td>Norway</td>\n",
       "      <td>7.411329</td>\n",
       "      <td>0.941327</td>\n",
       "      <td>61.902369</td>\n",
       "      <td>0.740155</td>\n",
       "    </tr>\n",
       "    <tr>\n",
       "      <th>...</th>\n",
       "      <td>...</td>\n",
       "      <td>...</td>\n",
       "      <td>...</td>\n",
       "      <td>...</td>\n",
       "      <td>...</td>\n",
       "    </tr>\n",
       "    <tr>\n",
       "      <th>148</th>\n",
       "      <td>Central African Republic</td>\n",
       "      <td>8.224720</td>\n",
       "      <td>0.615416</td>\n",
       "      <td>68.804291</td>\n",
       "      <td>0.963647</td>\n",
       "    </tr>\n",
       "    <tr>\n",
       "      <th>149</th>\n",
       "      <td>Rwanda</td>\n",
       "      <td>8.148405</td>\n",
       "      <td>0.703171</td>\n",
       "      <td>59.894689</td>\n",
       "      <td>0.719433</td>\n",
       "    </tr>\n",
       "    <tr>\n",
       "      <th>150</th>\n",
       "      <td>Zimbabwe</td>\n",
       "      <td>8.576625</td>\n",
       "      <td>0.788184</td>\n",
       "      <td>61.068613</td>\n",
       "      <td>0.269490</td>\n",
       "    </tr>\n",
       "    <tr>\n",
       "      <th>151</th>\n",
       "      <td>South Sudan</td>\n",
       "      <td>9.369752</td>\n",
       "      <td>0.826469</td>\n",
       "      <td>62.404473</td>\n",
       "      <td>0.406533</td>\n",
       "    </tr>\n",
       "    <tr>\n",
       "      <th>152</th>\n",
       "      <td>Afghanistan</td>\n",
       "      <td>10.775685</td>\n",
       "      <td>0.591039</td>\n",
       "      <td>72.864832</td>\n",
       "      <td>0.275686</td>\n",
       "    </tr>\n",
       "  </tbody>\n",
       "</table>\n",
       "<p>153 rows × 5 columns</p>\n",
       "</div>"
      ],
      "text/plain": [
       "                 Country name  Logged GDP per capita  Social support  \\\n",
       "0                     Finland               9.100476        0.826733   \n",
       "1                     Denmark               8.148405        0.562013   \n",
       "2                 Switzerland               7.054380        0.844096   \n",
       "3                     Iceland               9.687727        0.887983   \n",
       "4                      Norway               7.411329        0.941327   \n",
       "..                        ...                    ...             ...   \n",
       "148  Central African Republic               8.224720        0.615416   \n",
       "149                    Rwanda               8.148405        0.703171   \n",
       "150                  Zimbabwe               8.576625        0.788184   \n",
       "151               South Sudan               9.369752        0.826469   \n",
       "152               Afghanistan              10.775685        0.591039   \n",
       "\n",
       "     Healthy life expectancy  Freedom to make life choices  \n",
       "0                  64.205320                      0.036921  \n",
       "1                  60.417723                      0.807409  \n",
       "2                  63.642913                      0.575641  \n",
       "3                  71.668933                      0.608604  \n",
       "4                  61.902369                      0.740155  \n",
       "..                       ...                           ...  \n",
       "148                68.804291                      0.963647  \n",
       "149                59.894689                      0.719433  \n",
       "150                61.068613                      0.269490  \n",
       "151                62.404473                      0.406533  \n",
       "152                72.864832                      0.275686  \n",
       "\n",
       "[153 rows x 5 columns]"
      ]
     },
     "execution_count": 23,
     "metadata": {},
     "output_type": "execute_result"
    }
   ],
   "source": [
    "sim"
   ]
  },
  {
   "cell_type": "markdown",
   "metadata": {},
   "source": [
    "Comparing simulated Freedom to real word data on histogram:"
   ]
  },
  {
   "cell_type": "code",
   "execution_count": 24,
   "metadata": {},
   "outputs": [
    {
     "data": {
      "image/png": "[encoded data removed]",
      "text/plain": [
       "<Figure size 432x288 with 1 Axes>"
      ]
     },
     "metadata": {
      "needs_background": "light"
     },
     "output_type": "display_data"
    },
    {
     "data": {
      "image/png": "[encoded data removed]",
      "text/plain": [
       "<Figure size 432x288 with 1 Axes>"
      ]
     },
     "metadata": {
      "needs_background": "light"
     },
     "output_type": "display_data"
    }
   ],
   "source": [
    "sim.hist(column='Freedom to make life choices')\n",
    "pl.suptitle(\"Simulation\")\n",
    "plt.show\n",
    "whr20.hist(column='Freedom to make life choices')\n",
    "pl.suptitle(\"Real World\")\n",
    "plt.show()"
   ]
  },
  {
   "cell_type": "markdown",
   "metadata": {},
   "source": [
    "**Simulating Generosity:**"
   ]
  },
  {
   "cell_type": "code",
   "execution_count": 25,
   "metadata": {},
   "outputs": [],
   "source": [
    "generosity = np.random.normal(-0.1, 0.16, 153)\n",
    "sim['Generosity'] = generosity"
   ]
  },
  {
   "cell_type": "code",
   "execution_count": 26,
   "metadata": {},
   "outputs": [
    {
     "data": {
      "text/html": [
       "<div>\n",
       "<style scoped>\n",
       "    .dataframe tbody tr th:only-of-type {\n",
       "        vertical-align: middle;\n",
       "    }\n",
       "\n",
       "    .dataframe tbody tr th {\n",
       "        vertical-align: top;\n",
       "    }\n",
       "\n",
       "    .dataframe thead th {\n",
       "        text-align: right;\n",
       "    }\n",
       "</style>\n",
       "<table border=\"1\" class=\"dataframe\">\n",
       "  <thead>\n",
       "    <tr style=\"text-align: right;\">\n",
       "      <th></th>\n",
       "      <th>Country name</th>\n",
       "      <th>Logged GDP per capita</th>\n",
       "      <th>Social support</th>\n",
       "      <th>Healthy life expectancy</th>\n",
       "      <th>Freedom to make life choices</th>\n",
       "      <th>Generosity</th>\n",
       "    </tr>\n",
       "  </thead>\n",
       "  <tbody>\n",
       "    <tr>\n",
       "      <th>0</th>\n",
       "      <td>Finland</td>\n",
       "      <td>9.100476</td>\n",
       "      <td>0.826733</td>\n",
       "      <td>64.205320</td>\n",
       "      <td>0.036921</td>\n",
       "      <td>-0.136271</td>\n",
       "    </tr>\n",
       "    <tr>\n",
       "      <th>1</th>\n",
       "      <td>Denmark</td>\n",
       "      <td>8.148405</td>\n",
       "      <td>0.562013</td>\n",
       "      <td>60.417723</td>\n",
       "      <td>0.807409</td>\n",
       "      <td>0.067028</td>\n",
       "    </tr>\n",
       "    <tr>\n",
       "      <th>2</th>\n",
       "      <td>Switzerland</td>\n",
       "      <td>7.054380</td>\n",
       "      <td>0.844096</td>\n",
       "      <td>63.642913</td>\n",
       "      <td>0.575641</td>\n",
       "      <td>-0.165061</td>\n",
       "    </tr>\n",
       "    <tr>\n",
       "      <th>3</th>\n",
       "      <td>Iceland</td>\n",
       "      <td>9.687727</td>\n",
       "      <td>0.887983</td>\n",
       "      <td>71.668933</td>\n",
       "      <td>0.608604</td>\n",
       "      <td>0.031156</td>\n",
       "    </tr>\n",
       "    <tr>\n",
       "      <th>4</th>\n",
       "      <td>Norway</td>\n",
       "      <td>7.411329</td>\n",
       "      <td>0.941327</td>\n",
       "      <td>61.902369</td>\n",
       "      <td>0.740155</td>\n",
       "      <td>-0.215902</td>\n",
       "    </tr>\n",
       "    <tr>\n",
       "      <th>...</th>\n",
       "      <td>...</td>\n",
       "      <td>...</td>\n",
       "      <td>...</td>\n",
       "      <td>...</td>\n",
       "      <td>...</td>\n",
       "      <td>...</td>\n",
       "    </tr>\n",
       "    <tr>\n",
       "      <th>148</th>\n",
       "      <td>Central African Republic</td>\n",
       "      <td>8.224720</td>\n",
       "      <td>0.615416</td>\n",
       "      <td>68.804291</td>\n",
       "      <td>0.963647</td>\n",
       "      <td>-0.005421</td>\n",
       "    </tr>\n",
       "    <tr>\n",
       "      <th>149</th>\n",
       "      <td>Rwanda</td>\n",
       "      <td>8.148405</td>\n",
       "      <td>0.703171</td>\n",
       "      <td>59.894689</td>\n",
       "      <td>0.719433</td>\n",
       "      <td>-0.011282</td>\n",
       "    </tr>\n",
       "    <tr>\n",
       "      <th>150</th>\n",
       "      <td>Zimbabwe</td>\n",
       "      <td>8.576625</td>\n",
       "      <td>0.788184</td>\n",
       "      <td>61.068613</td>\n",
       "      <td>0.269490</td>\n",
       "      <td>-0.130453</td>\n",
       "    </tr>\n",
       "    <tr>\n",
       "      <th>151</th>\n",
       "      <td>South Sudan</td>\n",
       "      <td>9.369752</td>\n",
       "      <td>0.826469</td>\n",
       "      <td>62.404473</td>\n",
       "      <td>0.406533</td>\n",
       "      <td>-0.030991</td>\n",
       "    </tr>\n",
       "    <tr>\n",
       "      <th>152</th>\n",
       "      <td>Afghanistan</td>\n",
       "      <td>10.775685</td>\n",
       "      <td>0.591039</td>\n",
       "      <td>72.864832</td>\n",
       "      <td>0.275686</td>\n",
       "      <td>-0.056333</td>\n",
       "    </tr>\n",
       "  </tbody>\n",
       "</table>\n",
       "<p>153 rows × 6 columns</p>\n",
       "</div>"
      ],
      "text/plain": [
       "                 Country name  Logged GDP per capita  Social support  \\\n",
       "0                     Finland               9.100476        0.826733   \n",
       "1                     Denmark               8.148405        0.562013   \n",
       "2                 Switzerland               7.054380        0.844096   \n",
       "3                     Iceland               9.687727        0.887983   \n",
       "4                      Norway               7.411329        0.941327   \n",
       "..                        ...                    ...             ...   \n",
       "148  Central African Republic               8.224720        0.615416   \n",
       "149                    Rwanda               8.148405        0.703171   \n",
       "150                  Zimbabwe               8.576625        0.788184   \n",
       "151               South Sudan               9.369752        0.826469   \n",
       "152               Afghanistan              10.775685        0.591039   \n",
       "\n",
       "     Healthy life expectancy  Freedom to make life choices  Generosity  \n",
       "0                  64.205320                      0.036921   -0.136271  \n",
       "1                  60.417723                      0.807409    0.067028  \n",
       "2                  63.642913                      0.575641   -0.165061  \n",
       "3                  71.668933                      0.608604    0.031156  \n",
       "4                  61.902369                      0.740155   -0.215902  \n",
       "..                       ...                           ...         ...  \n",
       "148                68.804291                      0.963647   -0.005421  \n",
       "149                59.894689                      0.719433   -0.011282  \n",
       "150                61.068613                      0.269490   -0.130453  \n",
       "151                62.404473                      0.406533   -0.030991  \n",
       "152                72.864832                      0.275686   -0.056333  \n",
       "\n",
       "[153 rows x 6 columns]"
      ]
     },
     "execution_count": 26,
     "metadata": {},
     "output_type": "execute_result"
    }
   ],
   "source": [
    "sim"
   ]
  },
  {
   "cell_type": "markdown",
   "metadata": {},
   "source": [
    "Comparing simulated Generosity to real word data on histogram:"
   ]
  },
  {
   "cell_type": "code",
   "execution_count": 27,
   "metadata": {},
   "outputs": [
    {
     "data": {
      "image/png": "[encoded data removed]",
      "text/plain": [
       "<Figure size 432x288 with 1 Axes>"
      ]
     },
     "metadata": {
      "needs_background": "light"
     },
     "output_type": "display_data"
    },
    {
     "data": {
      "image/png": "[encoded data removed]",
      "text/plain": [
       "<Figure size 432x288 with 1 Axes>"
      ]
     },
     "metadata": {
      "needs_background": "light"
     },
     "output_type": "display_data"
    }
   ],
   "source": [
    "sim.hist(column='Generosity')\n",
    "pl.suptitle(\"Simulation\")\n",
    "plt.show\n",
    "whr20.hist(column='Generosity')\n",
    "pl.suptitle(\"Real World\")\n",
    "plt.show()"
   ]
  },
  {
   "cell_type": "markdown",
   "metadata": {},
   "source": [
    "**Simulating Perceptions of corruption:**"
   ]
  },
  {
   "cell_type": "code",
   "execution_count": 28,
   "metadata": {},
   "outputs": [],
   "source": [
    "#corruption = np.random.rand(153) * (13.3-0.5) + 0.5\n",
    "corruption =  np.random.power(85., 153)\n",
    "sim['Perceptions of corruption'] = corruption"
   ]
  },
  {
   "cell_type": "code",
   "execution_count": 29,
   "metadata": {},
   "outputs": [
    {
     "data": {
      "text/html": [
       "<div>\n",
       "<style scoped>\n",
       "    .dataframe tbody tr th:only-of-type {\n",
       "        vertical-align: middle;\n",
       "    }\n",
       "\n",
       "    .dataframe tbody tr th {\n",
       "        vertical-align: top;\n",
       "    }\n",
       "\n",
       "    .dataframe thead th {\n",
       "        text-align: right;\n",
       "    }\n",
       "</style>\n",
       "<table border=\"1\" class=\"dataframe\">\n",
       "  <thead>\n",
       "    <tr style=\"text-align: right;\">\n",
       "      <th></th>\n",
       "      <th>Country name</th>\n",
       "      <th>Logged GDP per capita</th>\n",
       "      <th>Social support</th>\n",
       "      <th>Healthy life expectancy</th>\n",
       "      <th>Freedom to make life choices</th>\n",
       "      <th>Generosity</th>\n",
       "      <th>Perceptions of corruption</th>\n",
       "    </tr>\n",
       "  </thead>\n",
       "  <tbody>\n",
       "    <tr>\n",
       "      <th>0</th>\n",
       "      <td>Finland</td>\n",
       "      <td>9.100476</td>\n",
       "      <td>0.826733</td>\n",
       "      <td>64.205320</td>\n",
       "      <td>0.036921</td>\n",
       "      <td>-0.136271</td>\n",
       "      <td>0.985691</td>\n",
       "    </tr>\n",
       "    <tr>\n",
       "      <th>1</th>\n",
       "      <td>Denmark</td>\n",
       "      <td>8.148405</td>\n",
       "      <td>0.562013</td>\n",
       "      <td>60.417723</td>\n",
       "      <td>0.807409</td>\n",
       "      <td>0.067028</td>\n",
       "      <td>0.986429</td>\n",
       "    </tr>\n",
       "    <tr>\n",
       "      <th>2</th>\n",
       "      <td>Switzerland</td>\n",
       "      <td>7.054380</td>\n",
       "      <td>0.844096</td>\n",
       "      <td>63.642913</td>\n",
       "      <td>0.575641</td>\n",
       "      <td>-0.165061</td>\n",
       "      <td>0.983328</td>\n",
       "    </tr>\n",
       "    <tr>\n",
       "      <th>3</th>\n",
       "      <td>Iceland</td>\n",
       "      <td>9.687727</td>\n",
       "      <td>0.887983</td>\n",
       "      <td>71.668933</td>\n",
       "      <td>0.608604</td>\n",
       "      <td>0.031156</td>\n",
       "      <td>0.948210</td>\n",
       "    </tr>\n",
       "    <tr>\n",
       "      <th>4</th>\n",
       "      <td>Norway</td>\n",
       "      <td>7.411329</td>\n",
       "      <td>0.941327</td>\n",
       "      <td>61.902369</td>\n",
       "      <td>0.740155</td>\n",
       "      <td>-0.215902</td>\n",
       "      <td>0.995689</td>\n",
       "    </tr>\n",
       "    <tr>\n",
       "      <th>...</th>\n",
       "      <td>...</td>\n",
       "      <td>...</td>\n",
       "      <td>...</td>\n",
       "      <td>...</td>\n",
       "      <td>...</td>\n",
       "      <td>...</td>\n",
       "      <td>...</td>\n",
       "    </tr>\n",
       "    <tr>\n",
       "      <th>148</th>\n",
       "      <td>Central African Republic</td>\n",
       "      <td>8.224720</td>\n",
       "      <td>0.615416</td>\n",
       "      <td>68.804291</td>\n",
       "      <td>0.963647</td>\n",
       "      <td>-0.005421</td>\n",
       "      <td>0.994608</td>\n",
       "    </tr>\n",
       "    <tr>\n",
       "      <th>149</th>\n",
       "      <td>Rwanda</td>\n",
       "      <td>8.148405</td>\n",
       "      <td>0.703171</td>\n",
       "      <td>59.894689</td>\n",
       "      <td>0.719433</td>\n",
       "      <td>-0.011282</td>\n",
       "      <td>0.996594</td>\n",
       "    </tr>\n",
       "    <tr>\n",
       "      <th>150</th>\n",
       "      <td>Zimbabwe</td>\n",
       "      <td>8.576625</td>\n",
       "      <td>0.788184</td>\n",
       "      <td>61.068613</td>\n",
       "      <td>0.269490</td>\n",
       "      <td>-0.130453</td>\n",
       "      <td>0.991771</td>\n",
       "    </tr>\n",
       "    <tr>\n",
       "      <th>151</th>\n",
       "      <td>South Sudan</td>\n",
       "      <td>9.369752</td>\n",
       "      <td>0.826469</td>\n",
       "      <td>62.404473</td>\n",
       "      <td>0.406533</td>\n",
       "      <td>-0.030991</td>\n",
       "      <td>0.990448</td>\n",
       "    </tr>\n",
       "    <tr>\n",
       "      <th>152</th>\n",
       "      <td>Afghanistan</td>\n",
       "      <td>10.775685</td>\n",
       "      <td>0.591039</td>\n",
       "      <td>72.864832</td>\n",
       "      <td>0.275686</td>\n",
       "      <td>-0.056333</td>\n",
       "      <td>0.995825</td>\n",
       "    </tr>\n",
       "  </tbody>\n",
       "</table>\n",
       "<p>153 rows × 7 columns</p>\n",
       "</div>"
      ],
      "text/plain": [
       "                 Country name  Logged GDP per capita  Social support  \\\n",
       "0                     Finland               9.100476        0.826733   \n",
       "1                     Denmark               8.148405        0.562013   \n",
       "2                 Switzerland               7.054380        0.844096   \n",
       "3                     Iceland               9.687727        0.887983   \n",
       "4                      Norway               7.411329        0.941327   \n",
       "..                        ...                    ...             ...   \n",
       "148  Central African Republic               8.224720        0.615416   \n",
       "149                    Rwanda               8.148405        0.703171   \n",
       "150                  Zimbabwe               8.576625        0.788184   \n",
       "151               South Sudan               9.369752        0.826469   \n",
       "152               Afghanistan              10.775685        0.591039   \n",
       "\n",
       "     Healthy life expectancy  Freedom to make life choices  Generosity  \\\n",
       "0                  64.205320                      0.036921   -0.136271   \n",
       "1                  60.417723                      0.807409    0.067028   \n",
       "2                  63.642913                      0.575641   -0.165061   \n",
       "3                  71.668933                      0.608604    0.031156   \n",
       "4                  61.902369                      0.740155   -0.215902   \n",
       "..                       ...                           ...         ...   \n",
       "148                68.804291                      0.963647   -0.005421   \n",
       "149                59.894689                      0.719433   -0.011282   \n",
       "150                61.068613                      0.269490   -0.130453   \n",
       "151                62.404473                      0.406533   -0.030991   \n",
       "152                72.864832                      0.275686   -0.056333   \n",
       "\n",
       "     Perceptions of corruption  \n",
       "0                     0.985691  \n",
       "1                     0.986429  \n",
       "2                     0.983328  \n",
       "3                     0.948210  \n",
       "4                     0.995689  \n",
       "..                         ...  \n",
       "148                   0.994608  \n",
       "149                   0.996594  \n",
       "150                   0.991771  \n",
       "151                   0.990448  \n",
       "152                   0.995825  \n",
       "\n",
       "[153 rows x 7 columns]"
      ]
     },
     "execution_count": 29,
     "metadata": {},
     "output_type": "execute_result"
    }
   ],
   "source": [
    "sim"
   ]
  },
  {
   "cell_type": "markdown",
   "metadata": {},
   "source": [
    "Comparing simulated Corruption to real word data on histogram:"
   ]
  },
  {
   "cell_type": "code",
   "execution_count": 30,
   "metadata": {},
   "outputs": [
    {
     "data": {
      "image/png": "[encoded data removed]",
      "text/plain": [
       "<Figure size 432x288 with 1 Axes>"
      ]
     },
     "metadata": {
      "needs_background": "light"
     },
     "output_type": "display_data"
    },
    {
     "data": {
      "image/png": "[encoded data removed]",
      "text/plain": [
       "<Figure size 432x288 with 1 Axes>"
      ]
     },
     "metadata": {
      "needs_background": "light"
     },
     "output_type": "display_data"
    }
   ],
   "source": [
    "sim.hist(column='Perceptions of corruption')\n",
    "pl.suptitle(\"Simulation\")\n",
    "plt.show\n",
    "whr20.hist(column='Perceptions of corruption')\n",
    "pl.suptitle(\"Real World\")\n",
    "plt.show()"
   ]
  },
  {
   "cell_type": "markdown",
   "metadata": {},
   "source": [
    "**Simulating Ladder score:**"
   ]
  },
  {
   "cell_type": "code",
   "execution_count": 31,
   "metadata": {},
   "outputs": [],
   "source": [
    "score = (sim['Logged GDP per capita'] + sim['Social support'] + sim['Healthy life expectancy'] \n",
    "         + sim['Freedom to make life choices'] + sim['Generosity'] + sim['Perceptions of corruption']) / 6\n",
    "sim['Ladder score'] = score"
   ]
  },
  {
   "cell_type": "code",
   "execution_count": 32,
   "metadata": {},
   "outputs": [
    {
     "data": {
      "text/html": [
       "<div>\n",
       "<style scoped>\n",
       "    .dataframe tbody tr th:only-of-type {\n",
       "        vertical-align: middle;\n",
       "    }\n",
       "\n",
       "    .dataframe tbody tr th {\n",
       "        vertical-align: top;\n",
       "    }\n",
       "\n",
       "    .dataframe thead th {\n",
       "        text-align: right;\n",
       "    }\n",
       "</style>\n",
       "<table border=\"1\" class=\"dataframe\">\n",
       "  <thead>\n",
       "    <tr style=\"text-align: right;\">\n",
       "      <th></th>\n",
       "      <th>Country name</th>\n",
       "      <th>Logged GDP per capita</th>\n",
       "      <th>Social support</th>\n",
       "      <th>Healthy life expectancy</th>\n",
       "      <th>Freedom to make life choices</th>\n",
       "      <th>Generosity</th>\n",
       "      <th>Perceptions of corruption</th>\n",
       "      <th>Ladder score</th>\n",
       "    </tr>\n",
       "  </thead>\n",
       "  <tbody>\n",
       "    <tr>\n",
       "      <th>146</th>\n",
       "      <td>Botswana</td>\n",
       "      <td>10.405703</td>\n",
       "      <td>0.933973</td>\n",
       "      <td>75.961109</td>\n",
       "      <td>0.861358</td>\n",
       "      <td>-0.247955</td>\n",
       "      <td>0.996165</td>\n",
       "      <td>14.818392</td>\n",
       "    </tr>\n",
       "    <tr>\n",
       "      <th>138</th>\n",
       "      <td>Sierra Leone</td>\n",
       "      <td>9.566435</td>\n",
       "      <td>0.831612</td>\n",
       "      <td>73.956665</td>\n",
       "      <td>0.671366</td>\n",
       "      <td>-0.166145</td>\n",
       "      <td>0.999075</td>\n",
       "      <td>14.309835</td>\n",
       "    </tr>\n",
       "    <tr>\n",
       "      <th>152</th>\n",
       "      <td>Afghanistan</td>\n",
       "      <td>10.775685</td>\n",
       "      <td>0.591039</td>\n",
       "      <td>72.864832</td>\n",
       "      <td>0.275686</td>\n",
       "      <td>-0.056333</td>\n",
       "      <td>0.995825</td>\n",
       "      <td>14.241122</td>\n",
       "    </tr>\n",
       "    <tr>\n",
       "      <th>67</th>\n",
       "      <td>Dominican Republic</td>\n",
       "      <td>9.687727</td>\n",
       "      <td>0.796931</td>\n",
       "      <td>72.854195</td>\n",
       "      <td>0.580790</td>\n",
       "      <td>-0.006317</td>\n",
       "      <td>0.986583</td>\n",
       "      <td>14.149985</td>\n",
       "    </tr>\n",
       "    <tr>\n",
       "      <th>115</th>\n",
       "      <td>Armenia</td>\n",
       "      <td>10.481836</td>\n",
       "      <td>0.590338</td>\n",
       "      <td>72.228679</td>\n",
       "      <td>0.536155</td>\n",
       "      <td>-0.467654</td>\n",
       "      <td>0.999932</td>\n",
       "      <td>14.061548</td>\n",
       "    </tr>\n",
       "    <tr>\n",
       "      <th>...</th>\n",
       "      <td>...</td>\n",
       "      <td>...</td>\n",
       "      <td>...</td>\n",
       "      <td>...</td>\n",
       "      <td>...</td>\n",
       "      <td>...</td>\n",
       "      <td>...</td>\n",
       "      <td>...</td>\n",
       "    </tr>\n",
       "    <tr>\n",
       "      <th>9</th>\n",
       "      <td>Luxembourg</td>\n",
       "      <td>8.798580</td>\n",
       "      <td>0.665151</td>\n",
       "      <td>56.768941</td>\n",
       "      <td>0.969922</td>\n",
       "      <td>0.088267</td>\n",
       "      <td>0.991286</td>\n",
       "      <td>11.380358</td>\n",
       "    </tr>\n",
       "    <tr>\n",
       "      <th>107</th>\n",
       "      <td>Gabon</td>\n",
       "      <td>10.405703</td>\n",
       "      <td>0.655770</td>\n",
       "      <td>55.789401</td>\n",
       "      <td>0.408809</td>\n",
       "      <td>-0.078403</td>\n",
       "      <td>0.996750</td>\n",
       "      <td>11.363005</td>\n",
       "    </tr>\n",
       "    <tr>\n",
       "      <th>101</th>\n",
       "      <td>Guinea</td>\n",
       "      <td>7.462861</td>\n",
       "      <td>0.688823</td>\n",
       "      <td>57.872942</td>\n",
       "      <td>0.444847</td>\n",
       "      <td>-0.147470</td>\n",
       "      <td>0.993225</td>\n",
       "      <td>11.219205</td>\n",
       "    </tr>\n",
       "    <tr>\n",
       "      <th>33</th>\n",
       "      <td>El Salvador</td>\n",
       "      <td>7.411329</td>\n",
       "      <td>0.740969</td>\n",
       "      <td>57.063481</td>\n",
       "      <td>0.451652</td>\n",
       "      <td>-0.279613</td>\n",
       "      <td>0.980051</td>\n",
       "      <td>11.061311</td>\n",
       "    </tr>\n",
       "    <tr>\n",
       "      <th>96</th>\n",
       "      <td>Morocco</td>\n",
       "      <td>10.262519</td>\n",
       "      <td>0.934738</td>\n",
       "      <td>52.939699</td>\n",
       "      <td>0.897272</td>\n",
       "      <td>-0.135386</td>\n",
       "      <td>0.984699</td>\n",
       "      <td>10.980590</td>\n",
       "    </tr>\n",
       "  </tbody>\n",
       "</table>\n",
       "<p>153 rows × 8 columns</p>\n",
       "</div>"
      ],
      "text/plain": [
       "           Country name  Logged GDP per capita  Social support  \\\n",
       "146            Botswana              10.405703        0.933973   \n",
       "138        Sierra Leone               9.566435        0.831612   \n",
       "152         Afghanistan              10.775685        0.591039   \n",
       "67   Dominican Republic               9.687727        0.796931   \n",
       "115             Armenia              10.481836        0.590338   \n",
       "..                  ...                    ...             ...   \n",
       "9            Luxembourg               8.798580        0.665151   \n",
       "107               Gabon              10.405703        0.655770   \n",
       "101              Guinea               7.462861        0.688823   \n",
       "33          El Salvador               7.411329        0.740969   \n",
       "96              Morocco              10.262519        0.934738   \n",
       "\n",
       "     Healthy life expectancy  Freedom to make life choices  Generosity  \\\n",
       "146                75.961109                      0.861358   -0.247955   \n",
       "138                73.956665                      0.671366   -0.166145   \n",
       "152                72.864832                      0.275686   -0.056333   \n",
       "67                 72.854195                      0.580790   -0.006317   \n",
       "115                72.228679                      0.536155   -0.467654   \n",
       "..                       ...                           ...         ...   \n",
       "9                  56.768941                      0.969922    0.088267   \n",
       "107                55.789401                      0.408809   -0.078403   \n",
       "101                57.872942                      0.444847   -0.147470   \n",
       "33                 57.063481                      0.451652   -0.279613   \n",
       "96                 52.939699                      0.897272   -0.135386   \n",
       "\n",
       "     Perceptions of corruption  Ladder score  \n",
       "146                   0.996165     14.818392  \n",
       "138                   0.999075     14.309835  \n",
       "152                   0.995825     14.241122  \n",
       "67                    0.986583     14.149985  \n",
       "115                   0.999932     14.061548  \n",
       "..                         ...           ...  \n",
       "9                     0.991286     11.380358  \n",
       "107                   0.996750     11.363005  \n",
       "101                   0.993225     11.219205  \n",
       "33                    0.980051     11.061311  \n",
       "96                    0.984699     10.980590  \n",
       "\n",
       "[153 rows x 8 columns]"
      ]
     },
     "execution_count": 32,
     "metadata": {},
     "output_type": "execute_result"
    }
   ],
   "source": [
    "sim.sort_values('Ladder score', ascending=False)"
   ]
  },
  {
   "cell_type": "markdown",
   "metadata": {},
   "source": [
    "Comparing simulated Score to real word data on histogram:"
   ]
  },
  {
   "cell_type": "code",
   "execution_count": 33,
   "metadata": {},
   "outputs": [
    {
     "data": {
      "image/png": "[encoded data removed]",
      "text/plain": [
       "<Figure size 432x288 with 1 Axes>"
      ]
     },
     "metadata": {
      "needs_background": "light"
     },
     "output_type": "display_data"
    },
    {
     "data": {
      "image/png": "[encoded data removed]",
      "text/plain": [
       "<Figure size 432x288 with 1 Axes>"
      ]
     },
     "metadata": {
      "needs_background": "light"
     },
     "output_type": "display_data"
    }
   ],
   "source": [
    "sim.hist(column='Ladder score')\n",
    "pl.suptitle(\"Simulation\")\n",
    "plt.show\n",
    "whr20.hist(column='Ladder score')\n",
    "pl.suptitle(\"Real World\")\n",
    "plt.show()"
   ]
  },
  {
   "cell_type": "markdown",
   "metadata": {},
   "source": [
    "As we see above our Happiness score is more concentrated, when real word is skewed towards the higher values."
   ]
  },
  {
   "cell_type": "markdown",
   "metadata": {},
   "source": [
    "Summary statistics of our simulated data:"
   ]
  },
  {
   "cell_type": "code",
   "execution_count": 34,
   "metadata": {},
   "outputs": [
    {
     "data": {
      "text/html": [
       "<div>\n",
       "<style scoped>\n",
       "    .dataframe tbody tr th:only-of-type {\n",
       "        vertical-align: middle;\n",
       "    }\n",
       "\n",
       "    .dataframe tbody tr th {\n",
       "        vertical-align: top;\n",
       "    }\n",
       "\n",
       "    .dataframe thead th {\n",
       "        text-align: right;\n",
       "    }\n",
       "</style>\n",
       "<table border=\"1\" class=\"dataframe\">\n",
       "  <thead>\n",
       "    <tr style=\"text-align: right;\">\n",
       "      <th></th>\n",
       "      <th>Logged GDP per capita</th>\n",
       "      <th>Social support</th>\n",
       "      <th>Healthy life expectancy</th>\n",
       "      <th>Freedom to make life choices</th>\n",
       "      <th>Generosity</th>\n",
       "      <th>Perceptions of corruption</th>\n",
       "      <th>Ladder score</th>\n",
       "    </tr>\n",
       "  </thead>\n",
       "  <tbody>\n",
       "    <tr>\n",
       "      <th>count</th>\n",
       "      <td>153.000000</td>\n",
       "      <td>153.000000</td>\n",
       "      <td>153.000000</td>\n",
       "      <td>153.000000</td>\n",
       "      <td>153.000000</td>\n",
       "      <td>153.000000</td>\n",
       "      <td>153.000000</td>\n",
       "    </tr>\n",
       "    <tr>\n",
       "      <th>mean</th>\n",
       "      <td>9.278488</td>\n",
       "      <td>0.772730</td>\n",
       "      <td>65.066940</td>\n",
       "      <td>0.688586</td>\n",
       "      <td>-0.078978</td>\n",
       "      <td>0.987395</td>\n",
       "      <td>12.785860</td>\n",
       "    </tr>\n",
       "    <tr>\n",
       "      <th>std</th>\n",
       "      <td>1.167391</td>\n",
       "      <td>0.144706</td>\n",
       "      <td>4.012653</td>\n",
       "      <td>0.241886</td>\n",
       "      <td>0.161366</td>\n",
       "      <td>0.013028</td>\n",
       "      <td>0.671245</td>\n",
       "    </tr>\n",
       "    <tr>\n",
       "      <th>min</th>\n",
       "      <td>6.492642</td>\n",
       "      <td>0.402754</td>\n",
       "      <td>52.939699</td>\n",
       "      <td>0.036921</td>\n",
       "      <td>-0.467654</td>\n",
       "      <td>0.923185</td>\n",
       "      <td>10.980590</td>\n",
       "    </tr>\n",
       "    <tr>\n",
       "      <th>25%</th>\n",
       "      <td>8.287064</td>\n",
       "      <td>0.665323</td>\n",
       "      <td>62.560186</td>\n",
       "      <td>0.508680</td>\n",
       "      <td>-0.182060</td>\n",
       "      <td>0.984115</td>\n",
       "      <td>12.416742</td>\n",
       "    </tr>\n",
       "    <tr>\n",
       "      <th>50%</th>\n",
       "      <td>9.456313</td>\n",
       "      <td>0.790061</td>\n",
       "      <td>64.963628</td>\n",
       "      <td>0.748619</td>\n",
       "      <td>-0.078403</td>\n",
       "      <td>0.990448</td>\n",
       "      <td>12.781975</td>\n",
       "    </tr>\n",
       "    <tr>\n",
       "      <th>75%</th>\n",
       "      <td>10.263742</td>\n",
       "      <td>0.898662</td>\n",
       "      <td>67.973168</td>\n",
       "      <td>0.887926</td>\n",
       "      <td>0.030425</td>\n",
       "      <td>0.996594</td>\n",
       "      <td>13.266210</td>\n",
       "    </tr>\n",
       "    <tr>\n",
       "      <th>max</th>\n",
       "      <td>11.160978</td>\n",
       "      <td>0.980384</td>\n",
       "      <td>75.961109</td>\n",
       "      <td>0.999870</td>\n",
       "      <td>0.321760</td>\n",
       "      <td>0.999932</td>\n",
       "      <td>14.818392</td>\n",
       "    </tr>\n",
       "  </tbody>\n",
       "</table>\n",
       "</div>"
      ],
      "text/plain": [
       "       Logged GDP per capita  Social support  Healthy life expectancy  \\\n",
       "count             153.000000      153.000000               153.000000   \n",
       "mean                9.278488        0.772730                65.066940   \n",
       "std                 1.167391        0.144706                 4.012653   \n",
       "min                 6.492642        0.402754                52.939699   \n",
       "25%                 8.287064        0.665323                62.560186   \n",
       "50%                 9.456313        0.790061                64.963628   \n",
       "75%                10.263742        0.898662                67.973168   \n",
       "max                11.160978        0.980384                75.961109   \n",
       "\n",
       "       Freedom to make life choices  Generosity  Perceptions of corruption  \\\n",
       "count                    153.000000  153.000000                 153.000000   \n",
       "mean                       0.688586   -0.078978                   0.987395   \n",
       "std                        0.241886    0.161366                   0.013028   \n",
       "min                        0.036921   -0.467654                   0.923185   \n",
       "25%                        0.508680   -0.182060                   0.984115   \n",
       "50%                        0.748619   -0.078403                   0.990448   \n",
       "75%                        0.887926    0.030425                   0.996594   \n",
       "max                        0.999870    0.321760                   0.999932   \n",
       "\n",
       "       Ladder score  \n",
       "count    153.000000  \n",
       "mean      12.785860  \n",
       "std        0.671245  \n",
       "min       10.980590  \n",
       "25%       12.416742  \n",
       "50%       12.781975  \n",
       "75%       13.266210  \n",
       "max       14.818392  "
      ]
     },
     "execution_count": 34,
     "metadata": {},
     "output_type": "execute_result"
    }
   ],
   "source": [
    "sim.describe()"
   ]
  },
  {
   "cell_type": "markdown",
   "metadata": {},
   "source": [
    "Comparing heatmaps of our data and real word data:"
   ]
  },
  {
   "cell_type": "code",
   "execution_count": 35,
   "metadata": {},
   "outputs": [
    {
     "data": {
      "image/png": "[encoded data removed]",
      "text/plain": [
       "<Figure size 720x576 with 2 Axes>"
      ]
     },
     "metadata": {
      "needs_background": "light"
     },
     "output_type": "display_data"
    }
   ],
   "source": [
    "#heatmap to see the correlation between values\n",
    "plt.figure(figsize=(10,8))\n",
    "heatmap = sns.heatmap(sim.corr(), annot = True)"
   ]
  },
  {
   "cell_type": "code",
   "execution_count": 36,
   "metadata": {},
   "outputs": [
    {
     "data": {
      "image/png": "[encoded data removed]",
      "text/plain": [
       "<Figure size 720x576 with 2 Axes>"
      ]
     },
     "metadata": {
      "needs_background": "light"
     },
     "output_type": "display_data"
    }
   ],
   "source": [
    "#heatmap to see the correlation between values\n",
    "plt.figure(figsize=(10,8))\n",
    "heatmap = sns.heatmap(whr20.corr(), annot = True)"
   ]
  },
  {
   "cell_type": "markdown",
   "metadata": {},
   "source": [
    "**In simulated data** \n",
    "\n",
    "A healthy life expectancy has a very strong and positive relationship with the Score, that is, if the country has a High Life Expectancy, it can also have a high Score. Being happy doesn’t just improve the quality of a person’s life. It may increase the quantity of our life as well."
   ]
  },
  {
   "cell_type": "code",
   "execution_count": 37,
   "metadata": {},
   "outputs": [
    {
     "data": {
      "image/png": "[encoded data removed]",
      "text/plain": [
       "<Figure size 576x576 with 1 Axes>"
      ]
     },
     "metadata": {
      "needs_background": "light"
     },
     "output_type": "display_data"
    }
   ],
   "source": [
    "sns.lmplot(x=\"Ladder score\",y= \"Healthy life expectancy\",data = sim,height=8)\n",
    "plt.show()"
   ]
  },
  {
   "cell_type": "markdown",
   "metadata": {},
   "source": [
    "**In real world data:**\n",
    "\n",
    "The relationship between GDP per capita has a strong positive correlation with Score, that is, if the GDP per capita of a country is higher than the Happiness Score of that country, it is also more likely to be high."
   ]
  },
  {
   "cell_type": "code",
   "execution_count": 38,
   "metadata": {},
   "outputs": [
    {
     "data": {
      "image/png": "[encoded data removed]",
      "text/plain": [
       "<Figure size 576x576 with 1 Axes>"
      ]
     },
     "metadata": {
      "needs_background": "light"
     },
     "output_type": "display_data"
    }
   ],
   "source": [
    "sns.lmplot(x=\"Ladder score\",y= \"Logged GDP per capita\",data = whr20,height=8)\n",
    "plt.show()"
   ]
  },
  {
   "cell_type": "markdown",
   "metadata": {},
   "source": [
    "Next, we look on histogram of our numerical data in each category, side by side."
   ]
  },
  {
   "cell_type": "code",
   "execution_count": 39,
   "metadata": {},
   "outputs": [
    {
     "data": {
      "text/plain": [
       "[None, None, None, None, None, None]"
      ]
     },
     "execution_count": 39,
     "metadata": {},
     "output_type": "execute_result"
    },
    {
     "data": {
      "image/png": "[encoded data removed]",
      "text/plain": [
       "<Figure size 1152x1152 with 6 Axes>"
      ]
     },
     "metadata": {
      "needs_background": "light"
     },
     "output_type": "display_data"
    }
   ],
   "source": [
    "plt.rcParams['figure.figsize'] = (15, 15)\n",
    "df1 = sim[['Logged GDP per capita', 'Healthy life expectancy', 'Freedom to make life choices',\n",
    "              'Generosity','Perceptions of corruption']]\n",
    "h = df1.hist(bins = 25, figsize = (16,16),\n",
    "             xlabelsize = '10', ylabelsize = '10')\n",
    "sns.despine(left = True, bottom = True)\n",
    "[x.title.set_size(12) for x in h.ravel()];\n",
    "[x.yaxis.tick_left() for x in h.ravel()]"
   ]
  },
  {
   "cell_type": "markdown",
   "metadata": {},
   "source": [
    "To see how our simulated data look like compared to Score we will creat scatter plots for each variable and try to fit a linear regression:"
   ]
  },
  {
   "cell_type": "code",
   "execution_count": 40,
   "metadata": {},
   "outputs": [
    {
     "data": {
      "image/png": "[encoded data removed]",
      "text/plain": [
       "<Figure size 576x576 with 1 Axes>"
      ]
     },
     "metadata": {
      "needs_background": "light"
     },
     "output_type": "display_data"
    }
   ],
   "source": [
    "sns.lmplot(x=\"Ladder score\",y= \"Logged GDP per capita\",data = sim,height=8)\n",
    "plt.show()"
   ]
  },
  {
   "cell_type": "code",
   "execution_count": 41,
   "metadata": {},
   "outputs": [
    {
     "data": {
      "image/png": "[encoded data removed]",
      "text/plain": [
       "<Figure size 576x576 with 1 Axes>"
      ]
     },
     "metadata": {
      "needs_background": "light"
     },
     "output_type": "display_data"
    }
   ],
   "source": [
    "sns.lmplot(x=\"Ladder score\",y= \"Freedom to make life choices\",data = sim,height=8)\n",
    "plt.show()"
   ]
  },
  {
   "cell_type": "code",
   "execution_count": 42,
   "metadata": {},
   "outputs": [
    {
     "data": {
      "image/png": "[encoded data removed]",
      "text/plain": [
       "<Figure size 576x576 with 1 Axes>"
      ]
     },
     "metadata": {
      "needs_background": "light"
     },
     "output_type": "display_data"
    }
   ],
   "source": [
    "sns.lmplot(x=\"Ladder score\",y= \"Generosity\",data = sim,height=8)\n",
    "plt.show()"
   ]
  },
  {
   "cell_type": "code",
   "execution_count": 43,
   "metadata": {},
   "outputs": [
    {
     "data": {
      "image/png": "[encoded data removed]",
      "text/plain": [
       "<Figure size 576x576 with 1 Axes>"
      ]
     },
     "metadata": {
      "needs_background": "light"
     },
     "output_type": "display_data"
    }
   ],
   "source": [
    "sns.lmplot(x=\"Ladder score\",y= \"Perceptions of corruption\",data = sim,height=8)\n",
    "plt.show()"
   ]
  },
  {
   "cell_type": "markdown",
   "metadata": {},
   "source": [
    "As we can see above on the heatmap and plots of simulated and real world data. \n",
    "In the real world data only only perception of corruption have negative correlation to score.\n",
    "Where in simulated data we could see it in more variables."
   ]
  },
  {
   "cell_type": "markdown",
   "metadata": {},
   "source": [
    "**Top 10 in each variable:**"
   ]
  },
  {
   "cell_type": "code",
   "execution_count": 44,
   "metadata": {},
   "outputs": [
    {
     "data": {
      "image/png": "[encoded data removed]",
      "text/plain": [
       "<Figure size 720x720 with 6 Axes>"
      ]
     },
     "metadata": {
      "needs_background": "light"
     },
     "output_type": "display_data"
    }
   ],
   "source": [
    "fig, axes = plt.subplots(nrows=3, ncols=2,constrained_layout=True,figsize=(10,10))\n",
    "sns.barplot(x='Logged GDP per capita',y='Country name',\n",
    "                        data=sim.nlargest(10,'Logged GDP per capita'),\n",
    "                        ax=axes[0,0],palette=\"Blues_r\")\n",
    "sns.barplot(x='Healthy life expectancy' ,y='Country name',\n",
    "                        data=sim.nlargest(10,'Healthy life expectancy'),\n",
    "                        ax=axes[0,1],palette='Blues_r')\n",
    "sns.barplot(x='Ladder score' ,y='Country name',\n",
    "                        data=sim.nlargest(10,'Ladder score'),\n",
    "                        ax=axes[1,0],palette='Blues_r')\n",
    "sns.barplot(x='Generosity' ,y='Country name',\n",
    "                        data=sim.nlargest(10,'Generosity'),\n",
    "                        ax=axes[1,1],palette='Blues_r')\n",
    "sns.barplot(x='Freedom to make life choices' ,y='Country name',\n",
    "                        data=sim.nlargest(10,'Freedom to make life choices'),\n",
    "                        ax=axes[2,0],palette='Blues_r')\n",
    "sns.barplot(x='Perceptions of corruption' ,y='Country name',\n",
    "                        data=sim.nlargest(10,'Perceptions of corruption'),\n",
    "                        ax=axes[2,1],palette='Blues_r')\n",
    "plt.show()"
   ]
  }
 ],
 "metadata": {
  "kernelspec": {
   "display_name": "Python 3",
   "language": "python",
   "name": "python3"
  },
  "language_info": {
   "codemirror_mode": {
    "name": "ipython",
    "version": 3
   },
   "file_extension": ".py",
   "mimetype": "text/x-python",
   "name": "python",
   "nbconvert_exporter": "python",
   "pygments_lexer": "ipython3",
   "version": "3.8.3"
  }
 },
 "nbformat": 4,
 "nbformat_minor": 4
}
